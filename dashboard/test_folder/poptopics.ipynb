{
 "cells": [
  {
   "cell_type": "code",
   "execution_count": 214,
   "metadata": {},
   "outputs": [],
   "source": [
    "import pandas as pd\n",
    "from sklearn.feature_extraction.text import CountVectorizer, TfidfVectorizer\n",
    "from sklearn.cluster import DBSCAN\n",
    "from nltk.corpus import stopwords\n",
    "from nltk.stem import WordNetLemmatizer\n",
    "from nltk.util import ngrams\n",
    "import wordnet\n",
    "import plotly.express as px"
   ]
  },
  {
   "cell_type": "code",
   "execution_count": 215,
   "metadata": {},
   "outputs": [],
   "source": [
    "# Data Clean-up\n",
    "df = pd.read_csv('../csv/overview.csv')\n",
    "df['unrecognised_msgs'] = df['unrecognised_msgs'].str.replace('[', '').str.replace(']', '')\n",
    "msg_list_v1 = []\n",
    "for msg in df['unrecognised_msgs']:\n",
    "    msg_list_v1.append(msg.split(','))\n",
    "msg_list_v2 = []\n",
    "for msg in msg_list_v1:\n",
    "    for x in msg:\n",
    "        msg_list_v2.append(x.replace('\"', '').strip())\n",
    "msg_df = pd.DataFrame(msg_list_v2, columns=['unrecognised_msgs'])\n",
    "msg_df = msg_df.dropna()\n",
    "msg_df.to_csv('unrecognised_msgs.csv', index=False)"
   ]
  },
  {
   "cell_type": "code",
   "execution_count": 209,
   "metadata": {},
   "outputs": [],
   "source": [
    "# Pre-processing Unrecognised Messages, Stopword removal and Lemmatization\n",
    "stop_words = set(stopwords.words('english'))\n",
    "lemmatizer = WordNetLemmatizer()\n",
    "\n",
    "def preprocess_text(text):\n",
    "    text = text.lower()\n",
    "    words = text.split()\n",
    "    words = [word for word in words if word not in stop_words]\n",
    "    words = [lemmatizer.lemmatize(word) for word in words]\n",
    "    return ' '.join(words)\n",
    "\n",
    "msg_df['Preprocessed Messages'] = msg_df['unrecognised_msgs'].apply(preprocess_text)"
   ]
  },
  {
   "cell_type": "code",
   "execution_count": 213,
   "metadata": {},
   "outputs": [
    {
     "name": "stdout",
     "output_type": "stream",
     "text": [
      "\n",
      "\n",
      "Features : \n",
      " ['account branch nearby' 'account family member'\n",
      " 'account option available' 'account statement generated'\n",
      " 'account type suitable' 'amount brokerage accounts'\n",
      " 'amount small business' 'app available android' 'apply credit card'\n",
      " 'apply small business' 'applying credit card' 'approved credit card'\n",
      " 'assist changing contact' 'assist loan application'\n",
      " 'assistance foreign currency' 'assistance redeeming reward'\n",
      " 'associated home equity' 'available android ios'\n",
      " 'balance requirement new' 'bank holiday schedule' 'banking app password'\n",
      " 'branch nearby visit' 'business loan applications' 'call claiming bank'\n",
      " 'card lost stolen' 'card option available' 'card statement clarify'\n",
      " 'change account pin' 'change online banking' 'change pin online'\n",
      " 'changing address bank' 'changing contact information'\n",
      " 'checkbook branch nearby' 'claiming bank legitimate'\n",
      " 'closing cost associated' 'cost associated home' 'cost stop payment'\n",
      " 'credit card applications' 'credit card limit' 'credit card option'\n",
      " 'credit card rewards' 'credit card statement'\n",
      " 'credit counseling services' 'credit limit cards' 'credit limit credit'\n",
      " 'credit limit increase' 'credit limit increases' 'credit score personal'\n",
      " 'criterion credit limit' 'current exchange rates'\n",
      " 'custodial account child' 'cutoff time same' 'daily transfer limit'\n",
      " 'day wire transfers' 'debit card do' 'debit card pin'\n",
      " 'deposit open account' 'dispute fee account' 'document required account'\n",
      " 'documentation needed update' 'electronic statement instead'\n",
      " 'expedite replacement lost' 'experiencing issue online'\n",
      " 'fee changing address' 'fee changing pin' 'foreign currency exchange'\n",
      " 'fraud account do' 'get approved credit' 'help credit card'\n",
      " 'help stop payment' 'help troubleshoot issue' 'help wire transfer'\n",
      " 'home equity loans' 'incorrect charge statement' 'increase credit card'\n",
      " 'information credit counseling' 'information investment options'\n",
      " 'information need transfer' 'information personal loans'\n",
      " 'information retirement accounts' 'initial deposit open'\n",
      " 'initiate wire transfer' 'instead paper ones' 'interest rate loan'\n",
      " 'interest rate small' 'interested opening joint'\n",
      " 'international wire transfer' 'investment amount brokerage'\n",
      " 'investment product bank' 'issue online banking' 'joint account branch'\n",
      " 'joint account family' 'joint account requirements' 'like apply credit'\n",
      " 'like apply small' 'like change account' 'like change online'\n",
      " 'like dispute fee' 'like request credit' 'like sign mobile'\n",
      " 'like update contact' 'limit credit cards' 'limit number pin'\n",
      " 'limit wire transfers' 'loan amount small' 'loan application process'\n",
      " 'loan term available' 'loan to value' 'locked online banking'\n",
      " 'long take get' 'lost checkbook branch' 'lost checkbook do'\n",
      " 'lost debit card' 'maximum loan amount' 'maximum loan term'\n",
      " 'meeting financial advisor' 'minimum balance requirement'\n",
      " 'minimum credit score' 'minimum investment amount' 'mobile app available'\n",
      " 'mobile banking app' 'mobile check deposit' 'moved update address'\n",
      " 'much cost stop' 'need assistance foreign' 'need assistance redeeming'\n",
      " 'need help stop' 'need help wire' 'need initial deposit'\n",
      " 'need initiate wire' 'need stop payment' 'needed update address'\n",
      " 'new debit card' 'number pin change' 'offer credit card'\n",
      " 'often account statement' 'often change online' 'online banking account'\n",
      " 'online banking password' 'open account online' 'open custodial account'\n",
      " 'open joint account' 'open new account' 'opening joint account'\n",
      " 'password requirement online' 'penalty personal loans'\n",
      " 'personal loan options' 'pin change make' 'pin forget it'\n",
      " 'prepayment penalty personal' 'process applying credit'\n",
      " 'process changing address' 'process closing account'\n",
      " 'process small business' 'process stopping check' 'product bank offer'\n",
      " 'promotional offer credit' 'provide information credit'\n",
      " 'provide information investment' 'provide information personal'\n",
      " 'provide information retirement' 'question recent transaction'\n",
      " 'question recent transactions' 'rate loan determined'\n",
      " 'rate small business' 'ratio home equity' 'receive electronic statement'\n",
      " 'received credit card' 'received suspicious call'\n",
      " 'received suspicious email' 'received suspicious text'\n",
      " 'redeeming reward points' 'replacement lost card'\n",
      " 'request account statements' 'request credit limit' 'request new debit'\n",
      " 'request stop payment' 'required account opening'\n",
      " 'requirement new accounts' 'requirement online banking'\n",
      " 'reset mobile banking' 'reset pin forget' 'retirement account option'\n",
      " 'same day wire' 'schedule meeting financial' 'score personal loan'\n",
      " 'see incorrect charge' 'send account statement' 'set automatic transfers'\n",
      " 'set recurring transfer' 'sign mobile banking' 'small business loan'\n",
      " 'small business loans' 'statement clarify charges'\n",
      " 'statement instead paper' 'stop payment account' 'stop payment request'\n",
      " 'stopping check payment' 'suspect fraud account'\n",
      " 'suspicious call claiming' 'suspicious email bank'\n",
      " 'suspicious text message' 'take get approved' 'tell investment options'\n",
      " 'tell personal loan' 'text message bank' 'time same day' 'to value ratio'\n",
      " 'transfer limit wire' 'trouble debit card' 'trouble mobile banking'\n",
      " 'trouble mobile check' 'type account open' 'type suitable savings'\n",
      " 'update contact information' 'value ratio home' 've moved update'\n",
      " 'want open custodial' 'want set recurring' 'what bank holiday'\n",
      " 'what credit limit' 'what criterion credit' 'what cutoff time'\n",
      " 'what daily transfer' 'what interest rate' 'what loan application'\n",
      " 'what loan to' 'what maximum loan' 'what minimum balance'\n",
      " 'what minimum credit' 'what minimum investment' 'what process applying'\n",
      " 'what process changing' 'what process closing' 'what process small'\n",
      " 'what process stopping' 'wire transfer supported']\n"
     ]
    }
   ],
   "source": [
    "# Extract Trigrams from Pre-processed messages\n",
    "vectorizer = CountVectorizer(ngram_range = (3,3))\n",
    "X = vectorizer.fit_transform(msg_df['Preprocessed Messages'])\n",
    "features = (vectorizer.get_feature_names_out())\n",
    "print(\"\\n\\nFeatures : \\n\", features)"
   ]
  },
  {
   "cell_type": "code",
   "execution_count": 211,
   "metadata": {},
   "outputs": [
    {
     "name": "stdout",
     "output_type": "stream",
     "text": [
      "\n",
      "\n",
      "Scores : \n",
      " [[0. 0. 0. ... 0. 0. 0.]\n",
      " [0. 0. 0. ... 0. 0. 0.]\n",
      " [0. 0. 0. ... 0. 0. 0.]\n",
      " ...\n",
      " [0. 0. 0. ... 0. 0. 0.]\n",
      " [0. 0. 0. ... 0. 0. 0.]\n",
      " [0. 0. 0. ... 0. 0. 0.]]\n"
     ]
    }
   ],
   "source": [
    "# Applying TFIDF\n",
    "vectorizer = TfidfVectorizer(ngram_range = (3,3))\n",
    "X2 = vectorizer.fit_transform(msg_df['Preprocessed Messages'])\n",
    "scores = (X2.toarray())\n",
    "print(\"\\n\\nScores : \\n\", scores)"
   ]
  },
  {
   "cell_type": "code",
   "execution_count": 212,
   "metadata": {},
   "outputs": [
    {
     "name": "stdout",
     "output_type": "stream",
     "text": [
      "\n",
      "\n",
      "Words head : \n",
      "                              term      rank\n",
      "142              open new account  3.000000\n",
      "21            branch nearby visit  2.884327\n",
      "66               fraud account do  2.828427\n",
      "198         suspect fraud account  2.828427\n",
      "12        assist changing contact  2.121320\n",
      "31   changing contact information  2.121320\n",
      "162  question recent transactions  2.000000\n",
      "174          request credit limit  1.732051\n",
      "98            like request credit  1.732051\n",
      "45          credit limit increase  1.732051\n"
     ]
    }
   ],
   "source": [
    "# Getting top ranking features\n",
    "sums = X2.sum(axis = 0)\n",
    "data1 = []\n",
    "for col, term in enumerate(features):\n",
    "    data1.append( (term, sums[0,col] ))\n",
    "ranking = pd.DataFrame(data1, columns = ['term','rank'])\n",
    "words = (ranking.sort_values('rank', ascending = False))\n",
    "print (\"\\n\\nWords head : \\n\", words.head(10))"
   ]
  },
  {
   "cell_type": "code",
   "execution_count": null,
   "metadata": {},
   "outputs": [],
   "source": []
  }
 ],
 "metadata": {
  "kernelspec": {
   "display_name": "fypenv",
   "language": "python",
   "name": "python3"
  },
  "language_info": {
   "codemirror_mode": {
    "name": "ipython",
    "version": 3
   },
   "file_extension": ".py",
   "mimetype": "text/x-python",
   "name": "python",
   "nbconvert_exporter": "python",
   "pygments_lexer": "ipython3",
   "version": "3.9.13"
  },
  "orig_nbformat": 4
 },
 "nbformat": 4,
 "nbformat_minor": 2
}
