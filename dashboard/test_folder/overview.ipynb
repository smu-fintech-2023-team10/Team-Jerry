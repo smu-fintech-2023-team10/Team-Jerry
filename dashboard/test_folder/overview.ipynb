{
 "cells": [
  {
   "cell_type": "code",
   "execution_count": 11,
   "metadata": {},
   "outputs": [],
   "source": [
    "import pandas as pd\n",
    "import plotly.express as px"
   ]
  },
  {
   "cell_type": "code",
   "execution_count": 4,
   "metadata": {},
   "outputs": [],
   "source": [
    "check_balance_df = pd.read_csv('../csv/check_balance.csv')\n",
    "paynow_transfer_df = pd.read_csv('../csv/paynow_transfer.csv')\n",
    "scan_to_pay_df = pd.read_csv('../csv/scan_to_pay.csv')"
   ]
  },
  {
   "cell_type": "code",
   "execution_count": 5,
   "metadata": {},
   "outputs": [],
   "source": [
    "combined_df = pd.concat([check_balance_df, paynow_transfer_df, scan_to_pay_df], ignore_index=True)"
   ]
  },
  {
   "cell_type": "code",
   "execution_count": 6,
   "metadata": {},
   "outputs": [
    {
     "data": {
      "text/html": [
       "<div>\n",
       "<style scoped>\n",
       "    .dataframe tbody tr th:only-of-type {\n",
       "        vertical-align: middle;\n",
       "    }\n",
       "\n",
       "    .dataframe tbody tr th {\n",
       "        vertical-align: top;\n",
       "    }\n",
       "\n",
       "    .dataframe thead th {\n",
       "        text-align: right;\n",
       "    }\n",
       "</style>\n",
       "<table border=\"1\" class=\"dataframe\">\n",
       "  <thead>\n",
       "    <tr style=\"text-align: right;\">\n",
       "      <th></th>\n",
       "      <th>bank_function</th>\n",
       "      <th>date</th>\n",
       "      <th>account_number</th>\n",
       "      <th>see_past_transactions</th>\n",
       "      <th>msgs_to_customer_support</th>\n",
       "      <th>transaction_time</th>\n",
       "      <th>recipient_number</th>\n",
       "      <th>amount</th>\n",
       "      <th>qr_string</th>\n",
       "    </tr>\n",
       "  </thead>\n",
       "  <tbody>\n",
       "    <tr>\n",
       "      <th>0</th>\n",
       "      <td>Check Balance</td>\n",
       "      <td>1/6/23</td>\n",
       "      <td>12345678.0</td>\n",
       "      <td>Past 7 days</td>\n",
       "      <td>[\"I have a question about my recent transactio...</td>\n",
       "      <td>NaN</td>\n",
       "      <td>NaN</td>\n",
       "      <td>NaN</td>\n",
       "      <td>NaN</td>\n",
       "    </tr>\n",
       "    <tr>\n",
       "      <th>1</th>\n",
       "      <td>Check Balance</td>\n",
       "      <td>1/6/23</td>\n",
       "      <td>23456789.0</td>\n",
       "      <td>Past 1 month</td>\n",
       "      <td>[\"I'm locked out of my online banking account....</td>\n",
       "      <td>NaN</td>\n",
       "      <td>NaN</td>\n",
       "      <td>NaN</td>\n",
       "      <td>NaN</td>\n",
       "    </tr>\n",
       "    <tr>\n",
       "      <th>2</th>\n",
       "      <td>Check Balance</td>\n",
       "      <td>2/6/23</td>\n",
       "      <td>34567890.0</td>\n",
       "      <td>Past 3 months</td>\n",
       "      <td>[\"I suspect fraud on my account. What should I...</td>\n",
       "      <td>NaN</td>\n",
       "      <td>NaN</td>\n",
       "      <td>NaN</td>\n",
       "      <td>NaN</td>\n",
       "    </tr>\n",
       "    <tr>\n",
       "      <th>3</th>\n",
       "      <td>Check Balance</td>\n",
       "      <td>2/6/23</td>\n",
       "      <td>45678901.0</td>\n",
       "      <td>Past 7 days</td>\n",
       "      <td>[\"I received a suspicious email. Is it from th...</td>\n",
       "      <td>NaN</td>\n",
       "      <td>NaN</td>\n",
       "      <td>NaN</td>\n",
       "      <td>NaN</td>\n",
       "    </tr>\n",
       "    <tr>\n",
       "      <th>4</th>\n",
       "      <td>Check Balance</td>\n",
       "      <td>2/6/23</td>\n",
       "      <td>56789012.0</td>\n",
       "      <td>Past 1 month</td>\n",
       "      <td>[\"I'm experiencing issues with online banking....</td>\n",
       "      <td>NaN</td>\n",
       "      <td>NaN</td>\n",
       "      <td>NaN</td>\n",
       "      <td>NaN</td>\n",
       "    </tr>\n",
       "    <tr>\n",
       "      <th>...</th>\n",
       "      <td>...</td>\n",
       "      <td>...</td>\n",
       "      <td>...</td>\n",
       "      <td>...</td>\n",
       "      <td>...</td>\n",
       "      <td>...</td>\n",
       "      <td>...</td>\n",
       "      <td>...</td>\n",
       "      <td>...</td>\n",
       "    </tr>\n",
       "    <tr>\n",
       "      <th>143</th>\n",
       "      <td>Scan To Pay</td>\n",
       "      <td>1/8/23</td>\n",
       "      <td>45678901.0</td>\n",
       "      <td>NaN</td>\n",
       "      <td>[\"I have a question about a recent transaction...</td>\n",
       "      <td>10:45:55</td>\n",
       "      <td>98888890.0</td>\n",
       "      <td>1000.75</td>\n",
       "      <td>QkVHSU46VkFMVUVTVC1QVUJMSUMgUE5HOjpBbW91bnQ6MT...</td>\n",
       "    </tr>\n",
       "    <tr>\n",
       "      <th>144</th>\n",
       "      <td>Scan To Pay</td>\n",
       "      <td>1/8/23</td>\n",
       "      <td>56789012.0</td>\n",
       "      <td>NaN</td>\n",
       "      <td>[\"Can you provide the wire transfer fee detail...</td>\n",
       "      <td>11:30:55</td>\n",
       "      <td>96666667.0</td>\n",
       "      <td>800.40</td>\n",
       "      <td>QkVHSU46VkFMVUVTVC1QVUJMSUMgUE5HOjpBbW91bnQ6MT...</td>\n",
       "    </tr>\n",
       "    <tr>\n",
       "      <th>145</th>\n",
       "      <td>Scan To Pay</td>\n",
       "      <td>1/8/23</td>\n",
       "      <td>67890123.0</td>\n",
       "      <td>NaN</td>\n",
       "      <td>[\"How often should I change my online banking ...</td>\n",
       "      <td>15:20:10</td>\n",
       "      <td>98888891.0</td>\n",
       "      <td>450.55</td>\n",
       "      <td>QkVHSU46VkFMVUVTVC1QVUJMSUMgUE5HOjpBbW91bnQ6MT...</td>\n",
       "    </tr>\n",
       "    <tr>\n",
       "      <th>146</th>\n",
       "      <td>Scan To Pay</td>\n",
       "      <td>1/8/23</td>\n",
       "      <td>12345678.0</td>\n",
       "      <td>NaN</td>\n",
       "      <td>[\"What's the maximum loan amount for small bus...</td>\n",
       "      <td>8:05:45</td>\n",
       "      <td>95555558.0</td>\n",
       "      <td>2200.90</td>\n",
       "      <td>QkVHSU46VkFMVUVTVC1QVUJMSUMgUE5HOjpBbW91bnQ6MT...</td>\n",
       "    </tr>\n",
       "    <tr>\n",
       "      <th>147</th>\n",
       "      <td>Scan To Pay</td>\n",
       "      <td>1/8/23</td>\n",
       "      <td>23456789.0</td>\n",
       "      <td>NaN</td>\n",
       "      <td>[\"What's the minimum down payment for a mortga...</td>\n",
       "      <td>17:30:30</td>\n",
       "      <td>93333336.0</td>\n",
       "      <td>19.70</td>\n",
       "      <td>QkVHSU46VkFMVUVTVC1QVUJMSUMgUE5HOjpBbW91bnQ6MT...</td>\n",
       "    </tr>\n",
       "  </tbody>\n",
       "</table>\n",
       "<p>148 rows × 9 columns</p>\n",
       "</div>"
      ],
      "text/plain": [
       "     bank_function    date  account_number see_past_transactions  \\\n",
       "0    Check Balance  1/6/23      12345678.0           Past 7 days   \n",
       "1    Check Balance  1/6/23      23456789.0          Past 1 month   \n",
       "2    Check Balance  2/6/23      34567890.0         Past 3 months   \n",
       "3    Check Balance  2/6/23      45678901.0           Past 7 days   \n",
       "4    Check Balance  2/6/23      56789012.0          Past 1 month   \n",
       "..             ...     ...             ...                   ...   \n",
       "143    Scan To Pay  1/8/23      45678901.0                   NaN   \n",
       "144    Scan To Pay  1/8/23      56789012.0                   NaN   \n",
       "145    Scan To Pay  1/8/23      67890123.0                   NaN   \n",
       "146    Scan To Pay  1/8/23      12345678.0                   NaN   \n",
       "147    Scan To Pay  1/8/23      23456789.0                   NaN   \n",
       "\n",
       "                              msgs_to_customer_support transaction_time  \\\n",
       "0    [\"I have a question about my recent transactio...              NaN   \n",
       "1    [\"I'm locked out of my online banking account....              NaN   \n",
       "2    [\"I suspect fraud on my account. What should I...              NaN   \n",
       "3    [\"I received a suspicious email. Is it from th...              NaN   \n",
       "4    [\"I'm experiencing issues with online banking....              NaN   \n",
       "..                                                 ...              ...   \n",
       "143  [\"I have a question about a recent transaction...         10:45:55   \n",
       "144  [\"Can you provide the wire transfer fee detail...         11:30:55   \n",
       "145  [\"How often should I change my online banking ...         15:20:10   \n",
       "146  [\"What's the maximum loan amount for small bus...          8:05:45   \n",
       "147  [\"What's the minimum down payment for a mortga...         17:30:30   \n",
       "\n",
       "     recipient_number   amount  \\\n",
       "0                 NaN      NaN   \n",
       "1                 NaN      NaN   \n",
       "2                 NaN      NaN   \n",
       "3                 NaN      NaN   \n",
       "4                 NaN      NaN   \n",
       "..                ...      ...   \n",
       "143        98888890.0  1000.75   \n",
       "144        96666667.0   800.40   \n",
       "145        98888891.0   450.55   \n",
       "146        95555558.0  2200.90   \n",
       "147        93333336.0    19.70   \n",
       "\n",
       "                                             qr_string  \n",
       "0                                                  NaN  \n",
       "1                                                  NaN  \n",
       "2                                                  NaN  \n",
       "3                                                  NaN  \n",
       "4                                                  NaN  \n",
       "..                                                 ...  \n",
       "143  QkVHSU46VkFMVUVTVC1QVUJMSUMgUE5HOjpBbW91bnQ6MT...  \n",
       "144  QkVHSU46VkFMVUVTVC1QVUJMSUMgUE5HOjpBbW91bnQ6MT...  \n",
       "145  QkVHSU46VkFMVUVTVC1QVUJMSUMgUE5HOjpBbW91bnQ6MT...  \n",
       "146  QkVHSU46VkFMVUVTVC1QVUJMSUMgUE5HOjpBbW91bnQ6MT...  \n",
       "147  QkVHSU46VkFMVUVTVC1QVUJMSUMgUE5HOjpBbW91bnQ6MT...  \n",
       "\n",
       "[148 rows x 9 columns]"
      ]
     },
     "execution_count": 6,
     "metadata": {},
     "output_type": "execute_result"
    }
   ],
   "source": [
    "combined_df"
   ]
  },
  {
   "cell_type": "code",
   "execution_count": 9,
   "metadata": {},
   "outputs": [],
   "source": [
    "bank_function_count = combined_df.groupby([\"bank_function\"]).size().reset_index(name=\"bank_function_count\")"
   ]
  },
  {
   "cell_type": "code",
   "execution_count": 10,
   "metadata": {},
   "outputs": [
    {
     "data": {
      "text/html": [
       "<div>\n",
       "<style scoped>\n",
       "    .dataframe tbody tr th:only-of-type {\n",
       "        vertical-align: middle;\n",
       "    }\n",
       "\n",
       "    .dataframe tbody tr th {\n",
       "        vertical-align: top;\n",
       "    }\n",
       "\n",
       "    .dataframe thead th {\n",
       "        text-align: right;\n",
       "    }\n",
       "</style>\n",
       "<table border=\"1\" class=\"dataframe\">\n",
       "  <thead>\n",
       "    <tr style=\"text-align: right;\">\n",
       "      <th></th>\n",
       "      <th>bank_function</th>\n",
       "      <th>bank_function_count</th>\n",
       "    </tr>\n",
       "  </thead>\n",
       "  <tbody>\n",
       "    <tr>\n",
       "      <th>0</th>\n",
       "      <td>Check Balance</td>\n",
       "      <td>48</td>\n",
       "    </tr>\n",
       "    <tr>\n",
       "      <th>1</th>\n",
       "      <td>PayNow Transfer</td>\n",
       "      <td>50</td>\n",
       "    </tr>\n",
       "    <tr>\n",
       "      <th>2</th>\n",
       "      <td>Scan To Pay</td>\n",
       "      <td>49</td>\n",
       "    </tr>\n",
       "  </tbody>\n",
       "</table>\n",
       "</div>"
      ],
      "text/plain": [
       "     bank_function  bank_function_count\n",
       "0    Check Balance                   48\n",
       "1  PayNow Transfer                   50\n",
       "2      Scan To Pay                   49"
      ]
     },
     "execution_count": 10,
     "metadata": {},
     "output_type": "execute_result"
    }
   ],
   "source": [
    "bank_function_count"
   ]
  },
  {
   "cell_type": "code",
   "execution_count": 14,
   "metadata": {},
   "outputs": [
    {
     "data": {
      "application/vnd.plotly.v1+json": {
       "config": {
        "plotlyServerURL": "https://plotly.com"
       },
       "data": [
        {
         "domain": {
          "x": [
           0,
           1
          ],
          "y": [
           0,
           1
          ]
         },
         "hole": 0.6,
         "hovertemplate": "bank_function=%{label}<br>bank_function_count=%{value}<extra></extra>",
         "labels": [
          "Check Balance",
          "PayNow Transfer",
          "Scan To Pay"
         ],
         "legendgroup": "",
         "name": "",
         "showlegend": true,
         "type": "pie",
         "values": [
          48,
          50,
          49
         ]
        }
       ],
       "layout": {
        "legend": {
         "tracegroupgap": 0
        },
        "piecolorway": [
         "#B8D5E5",
         "#92BFD8",
         "#63A3C7"
        ],
        "template": {
         "data": {
          "bar": [
           {
            "error_x": {
             "color": "#2a3f5f"
            },
            "error_y": {
             "color": "#2a3f5f"
            },
            "marker": {
             "line": {
              "color": "#E5ECF6",
              "width": 0.5
             },
             "pattern": {
              "fillmode": "overlay",
              "size": 10,
              "solidity": 0.2
             }
            },
            "type": "bar"
           }
          ],
          "barpolar": [
           {
            "marker": {
             "line": {
              "color": "#E5ECF6",
              "width": 0.5
             },
             "pattern": {
              "fillmode": "overlay",
              "size": 10,
              "solidity": 0.2
             }
            },
            "type": "barpolar"
           }
          ],
          "carpet": [
           {
            "aaxis": {
             "endlinecolor": "#2a3f5f",
             "gridcolor": "white",
             "linecolor": "white",
             "minorgridcolor": "white",
             "startlinecolor": "#2a3f5f"
            },
            "baxis": {
             "endlinecolor": "#2a3f5f",
             "gridcolor": "white",
             "linecolor": "white",
             "minorgridcolor": "white",
             "startlinecolor": "#2a3f5f"
            },
            "type": "carpet"
           }
          ],
          "choropleth": [
           {
            "colorbar": {
             "outlinewidth": 0,
             "ticks": ""
            },
            "type": "choropleth"
           }
          ],
          "contour": [
           {
            "colorbar": {
             "outlinewidth": 0,
             "ticks": ""
            },
            "colorscale": [
             [
              0,
              "#0d0887"
             ],
             [
              0.1111111111111111,
              "#46039f"
             ],
             [
              0.2222222222222222,
              "#7201a8"
             ],
             [
              0.3333333333333333,
              "#9c179e"
             ],
             [
              0.4444444444444444,
              "#bd3786"
             ],
             [
              0.5555555555555556,
              "#d8576b"
             ],
             [
              0.6666666666666666,
              "#ed7953"
             ],
             [
              0.7777777777777778,
              "#fb9f3a"
             ],
             [
              0.8888888888888888,
              "#fdca26"
             ],
             [
              1,
              "#f0f921"
             ]
            ],
            "type": "contour"
           }
          ],
          "contourcarpet": [
           {
            "colorbar": {
             "outlinewidth": 0,
             "ticks": ""
            },
            "type": "contourcarpet"
           }
          ],
          "heatmap": [
           {
            "colorbar": {
             "outlinewidth": 0,
             "ticks": ""
            },
            "colorscale": [
             [
              0,
              "#0d0887"
             ],
             [
              0.1111111111111111,
              "#46039f"
             ],
             [
              0.2222222222222222,
              "#7201a8"
             ],
             [
              0.3333333333333333,
              "#9c179e"
             ],
             [
              0.4444444444444444,
              "#bd3786"
             ],
             [
              0.5555555555555556,
              "#d8576b"
             ],
             [
              0.6666666666666666,
              "#ed7953"
             ],
             [
              0.7777777777777778,
              "#fb9f3a"
             ],
             [
              0.8888888888888888,
              "#fdca26"
             ],
             [
              1,
              "#f0f921"
             ]
            ],
            "type": "heatmap"
           }
          ],
          "heatmapgl": [
           {
            "colorbar": {
             "outlinewidth": 0,
             "ticks": ""
            },
            "colorscale": [
             [
              0,
              "#0d0887"
             ],
             [
              0.1111111111111111,
              "#46039f"
             ],
             [
              0.2222222222222222,
              "#7201a8"
             ],
             [
              0.3333333333333333,
              "#9c179e"
             ],
             [
              0.4444444444444444,
              "#bd3786"
             ],
             [
              0.5555555555555556,
              "#d8576b"
             ],
             [
              0.6666666666666666,
              "#ed7953"
             ],
             [
              0.7777777777777778,
              "#fb9f3a"
             ],
             [
              0.8888888888888888,
              "#fdca26"
             ],
             [
              1,
              "#f0f921"
             ]
            ],
            "type": "heatmapgl"
           }
          ],
          "histogram": [
           {
            "marker": {
             "pattern": {
              "fillmode": "overlay",
              "size": 10,
              "solidity": 0.2
             }
            },
            "type": "histogram"
           }
          ],
          "histogram2d": [
           {
            "colorbar": {
             "outlinewidth": 0,
             "ticks": ""
            },
            "colorscale": [
             [
              0,
              "#0d0887"
             ],
             [
              0.1111111111111111,
              "#46039f"
             ],
             [
              0.2222222222222222,
              "#7201a8"
             ],
             [
              0.3333333333333333,
              "#9c179e"
             ],
             [
              0.4444444444444444,
              "#bd3786"
             ],
             [
              0.5555555555555556,
              "#d8576b"
             ],
             [
              0.6666666666666666,
              "#ed7953"
             ],
             [
              0.7777777777777778,
              "#fb9f3a"
             ],
             [
              0.8888888888888888,
              "#fdca26"
             ],
             [
              1,
              "#f0f921"
             ]
            ],
            "type": "histogram2d"
           }
          ],
          "histogram2dcontour": [
           {
            "colorbar": {
             "outlinewidth": 0,
             "ticks": ""
            },
            "colorscale": [
             [
              0,
              "#0d0887"
             ],
             [
              0.1111111111111111,
              "#46039f"
             ],
             [
              0.2222222222222222,
              "#7201a8"
             ],
             [
              0.3333333333333333,
              "#9c179e"
             ],
             [
              0.4444444444444444,
              "#bd3786"
             ],
             [
              0.5555555555555556,
              "#d8576b"
             ],
             [
              0.6666666666666666,
              "#ed7953"
             ],
             [
              0.7777777777777778,
              "#fb9f3a"
             ],
             [
              0.8888888888888888,
              "#fdca26"
             ],
             [
              1,
              "#f0f921"
             ]
            ],
            "type": "histogram2dcontour"
           }
          ],
          "mesh3d": [
           {
            "colorbar": {
             "outlinewidth": 0,
             "ticks": ""
            },
            "type": "mesh3d"
           }
          ],
          "parcoords": [
           {
            "line": {
             "colorbar": {
              "outlinewidth": 0,
              "ticks": ""
             }
            },
            "type": "parcoords"
           }
          ],
          "pie": [
           {
            "automargin": true,
            "type": "pie"
           }
          ],
          "scatter": [
           {
            "marker": {
             "colorbar": {
              "outlinewidth": 0,
              "ticks": ""
             }
            },
            "type": "scatter"
           }
          ],
          "scatter3d": [
           {
            "line": {
             "colorbar": {
              "outlinewidth": 0,
              "ticks": ""
             }
            },
            "marker": {
             "colorbar": {
              "outlinewidth": 0,
              "ticks": ""
             }
            },
            "type": "scatter3d"
           }
          ],
          "scattercarpet": [
           {
            "marker": {
             "colorbar": {
              "outlinewidth": 0,
              "ticks": ""
             }
            },
            "type": "scattercarpet"
           }
          ],
          "scattergeo": [
           {
            "marker": {
             "colorbar": {
              "outlinewidth": 0,
              "ticks": ""
             }
            },
            "type": "scattergeo"
           }
          ],
          "scattergl": [
           {
            "marker": {
             "colorbar": {
              "outlinewidth": 0,
              "ticks": ""
             }
            },
            "type": "scattergl"
           }
          ],
          "scattermapbox": [
           {
            "marker": {
             "colorbar": {
              "outlinewidth": 0,
              "ticks": ""
             }
            },
            "type": "scattermapbox"
           }
          ],
          "scatterpolar": [
           {
            "marker": {
             "colorbar": {
              "outlinewidth": 0,
              "ticks": ""
             }
            },
            "type": "scatterpolar"
           }
          ],
          "scatterpolargl": [
           {
            "marker": {
             "colorbar": {
              "outlinewidth": 0,
              "ticks": ""
             }
            },
            "type": "scatterpolargl"
           }
          ],
          "scatterternary": [
           {
            "marker": {
             "colorbar": {
              "outlinewidth": 0,
              "ticks": ""
             }
            },
            "type": "scatterternary"
           }
          ],
          "surface": [
           {
            "colorbar": {
             "outlinewidth": 0,
             "ticks": ""
            },
            "colorscale": [
             [
              0,
              "#0d0887"
             ],
             [
              0.1111111111111111,
              "#46039f"
             ],
             [
              0.2222222222222222,
              "#7201a8"
             ],
             [
              0.3333333333333333,
              "#9c179e"
             ],
             [
              0.4444444444444444,
              "#bd3786"
             ],
             [
              0.5555555555555556,
              "#d8576b"
             ],
             [
              0.6666666666666666,
              "#ed7953"
             ],
             [
              0.7777777777777778,
              "#fb9f3a"
             ],
             [
              0.8888888888888888,
              "#fdca26"
             ],
             [
              1,
              "#f0f921"
             ]
            ],
            "type": "surface"
           }
          ],
          "table": [
           {
            "cells": {
             "fill": {
              "color": "#EBF0F8"
             },
             "line": {
              "color": "white"
             }
            },
            "header": {
             "fill": {
              "color": "#C8D4E3"
             },
             "line": {
              "color": "white"
             }
            },
            "type": "table"
           }
          ]
         },
         "layout": {
          "annotationdefaults": {
           "arrowcolor": "#2a3f5f",
           "arrowhead": 0,
           "arrowwidth": 1
          },
          "autotypenumbers": "strict",
          "coloraxis": {
           "colorbar": {
            "outlinewidth": 0,
            "ticks": ""
           }
          },
          "colorscale": {
           "diverging": [
            [
             0,
             "#8e0152"
            ],
            [
             0.1,
             "#c51b7d"
            ],
            [
             0.2,
             "#de77ae"
            ],
            [
             0.3,
             "#f1b6da"
            ],
            [
             0.4,
             "#fde0ef"
            ],
            [
             0.5,
             "#f7f7f7"
            ],
            [
             0.6,
             "#e6f5d0"
            ],
            [
             0.7,
             "#b8e186"
            ],
            [
             0.8,
             "#7fbc41"
            ],
            [
             0.9,
             "#4d9221"
            ],
            [
             1,
             "#276419"
            ]
           ],
           "sequential": [
            [
             0,
             "#0d0887"
            ],
            [
             0.1111111111111111,
             "#46039f"
            ],
            [
             0.2222222222222222,
             "#7201a8"
            ],
            [
             0.3333333333333333,
             "#9c179e"
            ],
            [
             0.4444444444444444,
             "#bd3786"
            ],
            [
             0.5555555555555556,
             "#d8576b"
            ],
            [
             0.6666666666666666,
             "#ed7953"
            ],
            [
             0.7777777777777778,
             "#fb9f3a"
            ],
            [
             0.8888888888888888,
             "#fdca26"
            ],
            [
             1,
             "#f0f921"
            ]
           ],
           "sequentialminus": [
            [
             0,
             "#0d0887"
            ],
            [
             0.1111111111111111,
             "#46039f"
            ],
            [
             0.2222222222222222,
             "#7201a8"
            ],
            [
             0.3333333333333333,
             "#9c179e"
            ],
            [
             0.4444444444444444,
             "#bd3786"
            ],
            [
             0.5555555555555556,
             "#d8576b"
            ],
            [
             0.6666666666666666,
             "#ed7953"
            ],
            [
             0.7777777777777778,
             "#fb9f3a"
            ],
            [
             0.8888888888888888,
             "#fdca26"
            ],
            [
             1,
             "#f0f921"
            ]
           ]
          },
          "colorway": [
           "#636efa",
           "#EF553B",
           "#00cc96",
           "#ab63fa",
           "#FFA15A",
           "#19d3f3",
           "#FF6692",
           "#B6E880",
           "#FF97FF",
           "#FECB52"
          ],
          "font": {
           "color": "#2a3f5f"
          },
          "geo": {
           "bgcolor": "white",
           "lakecolor": "white",
           "landcolor": "#E5ECF6",
           "showlakes": true,
           "showland": true,
           "subunitcolor": "white"
          },
          "hoverlabel": {
           "align": "left"
          },
          "hovermode": "closest",
          "mapbox": {
           "style": "light"
          },
          "paper_bgcolor": "white",
          "plot_bgcolor": "#E5ECF6",
          "polar": {
           "angularaxis": {
            "gridcolor": "white",
            "linecolor": "white",
            "ticks": ""
           },
           "bgcolor": "#E5ECF6",
           "radialaxis": {
            "gridcolor": "white",
            "linecolor": "white",
            "ticks": ""
           }
          },
          "scene": {
           "xaxis": {
            "backgroundcolor": "#E5ECF6",
            "gridcolor": "white",
            "gridwidth": 2,
            "linecolor": "white",
            "showbackground": true,
            "ticks": "",
            "zerolinecolor": "white"
           },
           "yaxis": {
            "backgroundcolor": "#E5ECF6",
            "gridcolor": "white",
            "gridwidth": 2,
            "linecolor": "white",
            "showbackground": true,
            "ticks": "",
            "zerolinecolor": "white"
           },
           "zaxis": {
            "backgroundcolor": "#E5ECF6",
            "gridcolor": "white",
            "gridwidth": 2,
            "linecolor": "white",
            "showbackground": true,
            "ticks": "",
            "zerolinecolor": "white"
           }
          },
          "shapedefaults": {
           "line": {
            "color": "#2a3f5f"
           }
          },
          "ternary": {
           "aaxis": {
            "gridcolor": "white",
            "linecolor": "white",
            "ticks": ""
           },
           "baxis": {
            "gridcolor": "white",
            "linecolor": "white",
            "ticks": ""
           },
           "bgcolor": "#E5ECF6",
           "caxis": {
            "gridcolor": "white",
            "linecolor": "white",
            "ticks": ""
           }
          },
          "title": {
           "x": 0.05
          },
          "xaxis": {
           "automargin": true,
           "gridcolor": "white",
           "linecolor": "white",
           "ticks": "",
           "title": {
            "standoff": 15
           },
           "zerolinecolor": "white",
           "zerolinewidth": 2
          },
          "yaxis": {
           "automargin": true,
           "gridcolor": "white",
           "linecolor": "white",
           "ticks": "",
           "title": {
            "standoff": 15
           },
           "zerolinecolor": "white",
           "zerolinewidth": 2
          }
         }
        },
        "title": {
         "text": "Bank Function Distribution"
        }
       }
      }
     },
     "metadata": {},
     "output_type": "display_data"
    }
   ],
   "source": [
    "fig = px.pie(\n",
    "    bank_function_count,\n",
    "    values=\"bank_function_count\",\n",
    "    names=\"bank_function\",\n",
    "    title=\"Bank Function Distribution\",\n",
    "    hole=0.6,\n",
    "    color_discrete_sequence=[\"#B8D5E5\", \"#92BFD8\", \"#63A3C7\"]\n",
    ")\n",
    "fig.show()"
   ]
  },
  {
   "cell_type": "code",
   "execution_count": 31,
   "metadata": {},
   "outputs": [
    {
     "name": "stderr",
     "output_type": "stream",
     "text": [
      "No model was supplied, defaulted to distilbert-base-uncased-finetuned-sst-2-english and revision af0f99b (https://huggingface.co/distilbert-base-uncased-finetuned-sst-2-english).\n",
      "Using a pipeline without specifying a model name and revision in production is not recommended.\n",
      "All PyTorch model weights were used when initializing TFDistilBertForSequenceClassification.\n",
      "\n",
      "All the weights of TFDistilBertForSequenceClassification were initialized from the PyTorch model.\n",
      "If your task is similar to the task the model of the checkpoint was trained on, you can already use TFDistilBertForSequenceClassification for predictions without further training.\n"
     ]
    },
    {
     "name": "stdout",
     "output_type": "stream",
     "text": [
      "0.0:15.521202087402344\n"
     ]
    }
   ],
   "source": [
    "from transformers import pipeline\n",
    "import pandas as pd\n",
    "import re\n",
    "import time\n",
    "\n",
    "start = time.time()\n",
    "\n",
    "sentiment_pipeline = pipeline(\"sentiment-analysis\") #create sentiment analysis model\n",
    "df = pd.read_csv('../csv/overview.csv') #read overview df\n",
    "unrecognised_msgs = df[\"unrecognised_msgs\"].tolist() #get unrecognised_msgs column\n",
    "\n",
    "msgs = []\n",
    "pattern = r'[\"\\'\\[\\]]'\n",
    "\n",
    "for lst in unrecognised_msgs:\n",
    "    lst = lst.split(\", \") # transform string representation of array to array ie \"[['msg1', 'msg2'], ['msg3', 'msg4']]\" to [['msg1', 'msg2'], ['msg3', 'msg4']]\n",
    "    for msg in lst:\n",
    "            msg = re.sub(pattern, '', msg) # remove ' \" [ ] from msg\n",
    "            msg = msg.strip() # remove spaces from the start and end of msg\n",
    "            if msg != \"\": # msgs_to_customer_support column is []\n",
    "                msgs.append(msg)\n",
    "\n",
    "sentiments = sentiment_pipeline(msgs) # apply sentiment analysis\n",
    "\n",
    "# turn msgs and sentiment into a csv\n",
    "msgs_sentiments = {\"unrecognised_msgs\": msgs, \"sentiment_label_score\": sentiments}\n",
    "msgs_sentiments_df = pd.DataFrame(msgs_sentiments)\n",
    "msgs_sentiments_df.to_csv(\"../csv/sentiments.csv\", index=False)\n",
    "\n",
    "end = time.time()\n",
    "total_seconds = end - start\n",
    "minutes = total_seconds // 60\n",
    "seconds = total_seconds % 60\n",
    "print(f\"{minutes:02}:{seconds:02}\")\n"
   ]
  },
  {
   "cell_type": "code",
   "execution_count": 34,
   "metadata": {},
   "outputs": [
    {
     "data": {
      "text/html": [
       "<div>\n",
       "<style scoped>\n",
       "    .dataframe tbody tr th:only-of-type {\n",
       "        vertical-align: middle;\n",
       "    }\n",
       "\n",
       "    .dataframe tbody tr th {\n",
       "        vertical-align: top;\n",
       "    }\n",
       "\n",
       "    .dataframe thead th {\n",
       "        text-align: right;\n",
       "    }\n",
       "</style>\n",
       "<table border=\"1\" class=\"dataframe\">\n",
       "  <thead>\n",
       "    <tr style=\"text-align: right;\">\n",
       "      <th></th>\n",
       "      <th>unrecognised_msgs</th>\n",
       "      <th>sentiment_label_score</th>\n",
       "      <th>sentiment_label</th>\n",
       "    </tr>\n",
       "  </thead>\n",
       "  <tbody>\n",
       "    <tr>\n",
       "      <th>0</th>\n",
       "      <td>I have a question about my recent transactions.</td>\n",
       "      <td>{\"label\": \"NEGATIVE\", \"score\": 0.8892908096313...</td>\n",
       "      <td>NEGATIVE</td>\n",
       "    </tr>\n",
       "    <tr>\n",
       "      <th>1</th>\n",
       "      <td>How can I set up e-statements?</td>\n",
       "      <td>{\"label\": \"NEGATIVE\", \"score\": 0.999462902545929}</td>\n",
       "      <td>NEGATIVE</td>\n",
       "    </tr>\n",
       "    <tr>\n",
       "      <th>2</th>\n",
       "      <td>Can you help me with my credit card rewards?</td>\n",
       "      <td>{\"label\": \"NEGATIVE\", \"score\": 0.8585994243621...</td>\n",
       "      <td>NEGATIVE</td>\n",
       "    </tr>\n",
       "    <tr>\n",
       "      <th>3</th>\n",
       "      <td>Im locked out of my online banking account.</td>\n",
       "      <td>{\"label\": \"NEGATIVE\", \"score\": 0.9991946816444...</td>\n",
       "      <td>NEGATIVE</td>\n",
       "    </tr>\n",
       "    <tr>\n",
       "      <th>4</th>\n",
       "      <td>Whats the process for applying for a credit card?</td>\n",
       "      <td>{\"label\": \"NEGATIVE\", \"score\": 0.9964313507080...</td>\n",
       "      <td>NEGATIVE</td>\n",
       "    </tr>\n",
       "  </tbody>\n",
       "</table>\n",
       "</div>"
      ],
      "text/plain": [
       "                                   unrecognised_msgs  \\\n",
       "0    I have a question about my recent transactions.   \n",
       "1                     How can I set up e-statements?   \n",
       "2       Can you help me with my credit card rewards?   \n",
       "3        Im locked out of my online banking account.   \n",
       "4  Whats the process for applying for a credit card?   \n",
       "\n",
       "                               sentiment_label_score sentiment_label  \n",
       "0  {\"label\": \"NEGATIVE\", \"score\": 0.8892908096313...        NEGATIVE  \n",
       "1  {\"label\": \"NEGATIVE\", \"score\": 0.999462902545929}        NEGATIVE  \n",
       "2  {\"label\": \"NEGATIVE\", \"score\": 0.8585994243621...        NEGATIVE  \n",
       "3  {\"label\": \"NEGATIVE\", \"score\": 0.9991946816444...        NEGATIVE  \n",
       "4  {\"label\": \"NEGATIVE\", \"score\": 0.9964313507080...        NEGATIVE  "
      ]
     },
     "execution_count": 34,
     "metadata": {},
     "output_type": "execute_result"
    }
   ],
   "source": [
    "import json\n",
    "sentiment_df = pd.read_csv(\"../csv/sentiments.csv\")\n",
    "sentiment_df[\"sentiment_label_score\"] = sentiment_df[\"sentiment_label_score\"].apply(lambda x: x.replace(\"'\", \"\\\"\"))\n",
    "sentiment_df[\"sentiment_label\"] = sentiment_df[\"sentiment_label_score\"].apply(lambda x: json.loads(x)[\"label\"])\n",
    "sentiment_df.head(5)"
   ]
  },
  {
   "cell_type": "code",
   "execution_count": 36,
   "metadata": {},
   "outputs": [
    {
     "data": {
      "text/html": [
       "<div>\n",
       "<style scoped>\n",
       "    .dataframe tbody tr th:only-of-type {\n",
       "        vertical-align: middle;\n",
       "    }\n",
       "\n",
       "    .dataframe tbody tr th {\n",
       "        vertical-align: top;\n",
       "    }\n",
       "\n",
       "    .dataframe thead th {\n",
       "        text-align: right;\n",
       "    }\n",
       "</style>\n",
       "<table border=\"1\" class=\"dataframe\">\n",
       "  <thead>\n",
       "    <tr style=\"text-align: right;\">\n",
       "      <th></th>\n",
       "      <th>sentiment_label</th>\n",
       "      <th>sentiment_distribution</th>\n",
       "    </tr>\n",
       "  </thead>\n",
       "  <tbody>\n",
       "    <tr>\n",
       "      <th>0</th>\n",
       "      <td>NEGATIVE</td>\n",
       "      <td>127</td>\n",
       "    </tr>\n",
       "    <tr>\n",
       "      <th>1</th>\n",
       "      <td>POSITIVE</td>\n",
       "      <td>5</td>\n",
       "    </tr>\n",
       "  </tbody>\n",
       "</table>\n",
       "</div>"
      ],
      "text/plain": [
       "  sentiment_label  sentiment_distribution\n",
       "0        NEGATIVE                     127\n",
       "1        POSITIVE                       5"
      ]
     },
     "execution_count": 36,
     "metadata": {},
     "output_type": "execute_result"
    }
   ],
   "source": [
    "sentiment_distribution = sentiment_df.groupby([\"sentiment_label\"]).size().reset_index(name=\"sentiment_distribution\")\n",
    "sentiment_distribution"
   ]
  },
  {
   "cell_type": "code",
   "execution_count": 38,
   "metadata": {},
   "outputs": [
    {
     "data": {
      "application/vnd.plotly.v1+json": {
       "config": {
        "plotlyServerURL": "https://plotly.com"
       },
       "data": [
        {
         "domain": {
          "x": [
           0,
           1
          ],
          "y": [
           0,
           1
          ]
         },
         "hole": 0.6,
         "hovertemplate": "sentiment_label=%{label}<br>sentiment_distribution=%{value}<extra></extra>",
         "labels": [
          "NEGATIVE",
          "POSITIVE"
         ],
         "legendgroup": "",
         "name": "",
         "showlegend": true,
         "type": "pie",
         "values": [
          127,
          5
         ]
        }
       ],
       "layout": {
        "legend": {
         "tracegroupgap": 0
        },
        "piecolorway": [
         "#B8D5E5",
         "#92BFD8"
        ],
        "template": {
         "data": {
          "bar": [
           {
            "error_x": {
             "color": "#2a3f5f"
            },
            "error_y": {
             "color": "#2a3f5f"
            },
            "marker": {
             "line": {
              "color": "#E5ECF6",
              "width": 0.5
             },
             "pattern": {
              "fillmode": "overlay",
              "size": 10,
              "solidity": 0.2
             }
            },
            "type": "bar"
           }
          ],
          "barpolar": [
           {
            "marker": {
             "line": {
              "color": "#E5ECF6",
              "width": 0.5
             },
             "pattern": {
              "fillmode": "overlay",
              "size": 10,
              "solidity": 0.2
             }
            },
            "type": "barpolar"
           }
          ],
          "carpet": [
           {
            "aaxis": {
             "endlinecolor": "#2a3f5f",
             "gridcolor": "white",
             "linecolor": "white",
             "minorgridcolor": "white",
             "startlinecolor": "#2a3f5f"
            },
            "baxis": {
             "endlinecolor": "#2a3f5f",
             "gridcolor": "white",
             "linecolor": "white",
             "minorgridcolor": "white",
             "startlinecolor": "#2a3f5f"
            },
            "type": "carpet"
           }
          ],
          "choropleth": [
           {
            "colorbar": {
             "outlinewidth": 0,
             "ticks": ""
            },
            "type": "choropleth"
           }
          ],
          "contour": [
           {
            "colorbar": {
             "outlinewidth": 0,
             "ticks": ""
            },
            "colorscale": [
             [
              0,
              "#0d0887"
             ],
             [
              0.1111111111111111,
              "#46039f"
             ],
             [
              0.2222222222222222,
              "#7201a8"
             ],
             [
              0.3333333333333333,
              "#9c179e"
             ],
             [
              0.4444444444444444,
              "#bd3786"
             ],
             [
              0.5555555555555556,
              "#d8576b"
             ],
             [
              0.6666666666666666,
              "#ed7953"
             ],
             [
              0.7777777777777778,
              "#fb9f3a"
             ],
             [
              0.8888888888888888,
              "#fdca26"
             ],
             [
              1,
              "#f0f921"
             ]
            ],
            "type": "contour"
           }
          ],
          "contourcarpet": [
           {
            "colorbar": {
             "outlinewidth": 0,
             "ticks": ""
            },
            "type": "contourcarpet"
           }
          ],
          "heatmap": [
           {
            "colorbar": {
             "outlinewidth": 0,
             "ticks": ""
            },
            "colorscale": [
             [
              0,
              "#0d0887"
             ],
             [
              0.1111111111111111,
              "#46039f"
             ],
             [
              0.2222222222222222,
              "#7201a8"
             ],
             [
              0.3333333333333333,
              "#9c179e"
             ],
             [
              0.4444444444444444,
              "#bd3786"
             ],
             [
              0.5555555555555556,
              "#d8576b"
             ],
             [
              0.6666666666666666,
              "#ed7953"
             ],
             [
              0.7777777777777778,
              "#fb9f3a"
             ],
             [
              0.8888888888888888,
              "#fdca26"
             ],
             [
              1,
              "#f0f921"
             ]
            ],
            "type": "heatmap"
           }
          ],
          "heatmapgl": [
           {
            "colorbar": {
             "outlinewidth": 0,
             "ticks": ""
            },
            "colorscale": [
             [
              0,
              "#0d0887"
             ],
             [
              0.1111111111111111,
              "#46039f"
             ],
             [
              0.2222222222222222,
              "#7201a8"
             ],
             [
              0.3333333333333333,
              "#9c179e"
             ],
             [
              0.4444444444444444,
              "#bd3786"
             ],
             [
              0.5555555555555556,
              "#d8576b"
             ],
             [
              0.6666666666666666,
              "#ed7953"
             ],
             [
              0.7777777777777778,
              "#fb9f3a"
             ],
             [
              0.8888888888888888,
              "#fdca26"
             ],
             [
              1,
              "#f0f921"
             ]
            ],
            "type": "heatmapgl"
           }
          ],
          "histogram": [
           {
            "marker": {
             "pattern": {
              "fillmode": "overlay",
              "size": 10,
              "solidity": 0.2
             }
            },
            "type": "histogram"
           }
          ],
          "histogram2d": [
           {
            "colorbar": {
             "outlinewidth": 0,
             "ticks": ""
            },
            "colorscale": [
             [
              0,
              "#0d0887"
             ],
             [
              0.1111111111111111,
              "#46039f"
             ],
             [
              0.2222222222222222,
              "#7201a8"
             ],
             [
              0.3333333333333333,
              "#9c179e"
             ],
             [
              0.4444444444444444,
              "#bd3786"
             ],
             [
              0.5555555555555556,
              "#d8576b"
             ],
             [
              0.6666666666666666,
              "#ed7953"
             ],
             [
              0.7777777777777778,
              "#fb9f3a"
             ],
             [
              0.8888888888888888,
              "#fdca26"
             ],
             [
              1,
              "#f0f921"
             ]
            ],
            "type": "histogram2d"
           }
          ],
          "histogram2dcontour": [
           {
            "colorbar": {
             "outlinewidth": 0,
             "ticks": ""
            },
            "colorscale": [
             [
              0,
              "#0d0887"
             ],
             [
              0.1111111111111111,
              "#46039f"
             ],
             [
              0.2222222222222222,
              "#7201a8"
             ],
             [
              0.3333333333333333,
              "#9c179e"
             ],
             [
              0.4444444444444444,
              "#bd3786"
             ],
             [
              0.5555555555555556,
              "#d8576b"
             ],
             [
              0.6666666666666666,
              "#ed7953"
             ],
             [
              0.7777777777777778,
              "#fb9f3a"
             ],
             [
              0.8888888888888888,
              "#fdca26"
             ],
             [
              1,
              "#f0f921"
             ]
            ],
            "type": "histogram2dcontour"
           }
          ],
          "mesh3d": [
           {
            "colorbar": {
             "outlinewidth": 0,
             "ticks": ""
            },
            "type": "mesh3d"
           }
          ],
          "parcoords": [
           {
            "line": {
             "colorbar": {
              "outlinewidth": 0,
              "ticks": ""
             }
            },
            "type": "parcoords"
           }
          ],
          "pie": [
           {
            "automargin": true,
            "type": "pie"
           }
          ],
          "scatter": [
           {
            "marker": {
             "colorbar": {
              "outlinewidth": 0,
              "ticks": ""
             }
            },
            "type": "scatter"
           }
          ],
          "scatter3d": [
           {
            "line": {
             "colorbar": {
              "outlinewidth": 0,
              "ticks": ""
             }
            },
            "marker": {
             "colorbar": {
              "outlinewidth": 0,
              "ticks": ""
             }
            },
            "type": "scatter3d"
           }
          ],
          "scattercarpet": [
           {
            "marker": {
             "colorbar": {
              "outlinewidth": 0,
              "ticks": ""
             }
            },
            "type": "scattercarpet"
           }
          ],
          "scattergeo": [
           {
            "marker": {
             "colorbar": {
              "outlinewidth": 0,
              "ticks": ""
             }
            },
            "type": "scattergeo"
           }
          ],
          "scattergl": [
           {
            "marker": {
             "colorbar": {
              "outlinewidth": 0,
              "ticks": ""
             }
            },
            "type": "scattergl"
           }
          ],
          "scattermapbox": [
           {
            "marker": {
             "colorbar": {
              "outlinewidth": 0,
              "ticks": ""
             }
            },
            "type": "scattermapbox"
           }
          ],
          "scatterpolar": [
           {
            "marker": {
             "colorbar": {
              "outlinewidth": 0,
              "ticks": ""
             }
            },
            "type": "scatterpolar"
           }
          ],
          "scatterpolargl": [
           {
            "marker": {
             "colorbar": {
              "outlinewidth": 0,
              "ticks": ""
             }
            },
            "type": "scatterpolargl"
           }
          ],
          "scatterternary": [
           {
            "marker": {
             "colorbar": {
              "outlinewidth": 0,
              "ticks": ""
             }
            },
            "type": "scatterternary"
           }
          ],
          "surface": [
           {
            "colorbar": {
             "outlinewidth": 0,
             "ticks": ""
            },
            "colorscale": [
             [
              0,
              "#0d0887"
             ],
             [
              0.1111111111111111,
              "#46039f"
             ],
             [
              0.2222222222222222,
              "#7201a8"
             ],
             [
              0.3333333333333333,
              "#9c179e"
             ],
             [
              0.4444444444444444,
              "#bd3786"
             ],
             [
              0.5555555555555556,
              "#d8576b"
             ],
             [
              0.6666666666666666,
              "#ed7953"
             ],
             [
              0.7777777777777778,
              "#fb9f3a"
             ],
             [
              0.8888888888888888,
              "#fdca26"
             ],
             [
              1,
              "#f0f921"
             ]
            ],
            "type": "surface"
           }
          ],
          "table": [
           {
            "cells": {
             "fill": {
              "color": "#EBF0F8"
             },
             "line": {
              "color": "white"
             }
            },
            "header": {
             "fill": {
              "color": "#C8D4E3"
             },
             "line": {
              "color": "white"
             }
            },
            "type": "table"
           }
          ]
         },
         "layout": {
          "annotationdefaults": {
           "arrowcolor": "#2a3f5f",
           "arrowhead": 0,
           "arrowwidth": 1
          },
          "autotypenumbers": "strict",
          "coloraxis": {
           "colorbar": {
            "outlinewidth": 0,
            "ticks": ""
           }
          },
          "colorscale": {
           "diverging": [
            [
             0,
             "#8e0152"
            ],
            [
             0.1,
             "#c51b7d"
            ],
            [
             0.2,
             "#de77ae"
            ],
            [
             0.3,
             "#f1b6da"
            ],
            [
             0.4,
             "#fde0ef"
            ],
            [
             0.5,
             "#f7f7f7"
            ],
            [
             0.6,
             "#e6f5d0"
            ],
            [
             0.7,
             "#b8e186"
            ],
            [
             0.8,
             "#7fbc41"
            ],
            [
             0.9,
             "#4d9221"
            ],
            [
             1,
             "#276419"
            ]
           ],
           "sequential": [
            [
             0,
             "#0d0887"
            ],
            [
             0.1111111111111111,
             "#46039f"
            ],
            [
             0.2222222222222222,
             "#7201a8"
            ],
            [
             0.3333333333333333,
             "#9c179e"
            ],
            [
             0.4444444444444444,
             "#bd3786"
            ],
            [
             0.5555555555555556,
             "#d8576b"
            ],
            [
             0.6666666666666666,
             "#ed7953"
            ],
            [
             0.7777777777777778,
             "#fb9f3a"
            ],
            [
             0.8888888888888888,
             "#fdca26"
            ],
            [
             1,
             "#f0f921"
            ]
           ],
           "sequentialminus": [
            [
             0,
             "#0d0887"
            ],
            [
             0.1111111111111111,
             "#46039f"
            ],
            [
             0.2222222222222222,
             "#7201a8"
            ],
            [
             0.3333333333333333,
             "#9c179e"
            ],
            [
             0.4444444444444444,
             "#bd3786"
            ],
            [
             0.5555555555555556,
             "#d8576b"
            ],
            [
             0.6666666666666666,
             "#ed7953"
            ],
            [
             0.7777777777777778,
             "#fb9f3a"
            ],
            [
             0.8888888888888888,
             "#fdca26"
            ],
            [
             1,
             "#f0f921"
            ]
           ]
          },
          "colorway": [
           "#636efa",
           "#EF553B",
           "#00cc96",
           "#ab63fa",
           "#FFA15A",
           "#19d3f3",
           "#FF6692",
           "#B6E880",
           "#FF97FF",
           "#FECB52"
          ],
          "font": {
           "color": "#2a3f5f"
          },
          "geo": {
           "bgcolor": "white",
           "lakecolor": "white",
           "landcolor": "#E5ECF6",
           "showlakes": true,
           "showland": true,
           "subunitcolor": "white"
          },
          "hoverlabel": {
           "align": "left"
          },
          "hovermode": "closest",
          "mapbox": {
           "style": "light"
          },
          "paper_bgcolor": "white",
          "plot_bgcolor": "#E5ECF6",
          "polar": {
           "angularaxis": {
            "gridcolor": "white",
            "linecolor": "white",
            "ticks": ""
           },
           "bgcolor": "#E5ECF6",
           "radialaxis": {
            "gridcolor": "white",
            "linecolor": "white",
            "ticks": ""
           }
          },
          "scene": {
           "xaxis": {
            "backgroundcolor": "#E5ECF6",
            "gridcolor": "white",
            "gridwidth": 2,
            "linecolor": "white",
            "showbackground": true,
            "ticks": "",
            "zerolinecolor": "white"
           },
           "yaxis": {
            "backgroundcolor": "#E5ECF6",
            "gridcolor": "white",
            "gridwidth": 2,
            "linecolor": "white",
            "showbackground": true,
            "ticks": "",
            "zerolinecolor": "white"
           },
           "zaxis": {
            "backgroundcolor": "#E5ECF6",
            "gridcolor": "white",
            "gridwidth": 2,
            "linecolor": "white",
            "showbackground": true,
            "ticks": "",
            "zerolinecolor": "white"
           }
          },
          "shapedefaults": {
           "line": {
            "color": "#2a3f5f"
           }
          },
          "ternary": {
           "aaxis": {
            "gridcolor": "white",
            "linecolor": "white",
            "ticks": ""
           },
           "baxis": {
            "gridcolor": "white",
            "linecolor": "white",
            "ticks": ""
           },
           "bgcolor": "#E5ECF6",
           "caxis": {
            "gridcolor": "white",
            "linecolor": "white",
            "ticks": ""
           }
          },
          "title": {
           "x": 0.05
          },
          "xaxis": {
           "automargin": true,
           "gridcolor": "white",
           "linecolor": "white",
           "ticks": "",
           "title": {
            "standoff": 15
           },
           "zerolinecolor": "white",
           "zerolinewidth": 2
          },
          "yaxis": {
           "automargin": true,
           "gridcolor": "white",
           "linecolor": "white",
           "ticks": "",
           "title": {
            "standoff": 15
           },
           "zerolinecolor": "white",
           "zerolinewidth": 2
          }
         }
        },
        "title": {
         "text": "Sentiment Distribution"
        }
       }
      }
     },
     "metadata": {},
     "output_type": "display_data"
    }
   ],
   "source": [
    "fig = px.pie(\n",
    "    sentiment_distribution,\n",
    "    values=\"sentiment_distribution\",\n",
    "    names=\"sentiment_label\",\n",
    "    title=\"Sentiment Distribution\",\n",
    "    hole=0.6,\n",
    "    color_discrete_sequence=[\"#B8D5E5\", \"#92BFD8\"]\n",
    ")\n",
    "fig.show()"
   ]
  },
  {
   "cell_type": "code",
   "execution_count": null,
   "metadata": {},
   "outputs": [],
   "source": [
    "check_balance_df = pd.read_csv('../csv/check_balance.csv')\n",
    "paynow_transfer_df = pd.read_csv('../csv/paynow_transfer.csv')\n",
    "scan_to_pay_df = pd.read_csv('../csv/scan_to_pay.csv')"
   ]
  },
  {
   "cell_type": "code",
   "execution_count": null,
   "metadata": {},
   "outputs": [],
   "source": [
    "def get_fig(df, metric_choice):\n",
    "            df['date'] = pd.to_datetime(df['date'], format=\"%d/%m/%y\")\n",
    "            sorted_df = df.sort_values(by=\"date\")\n",
    "            \n",
    "            if metric_choice == \"Users\":\n",
    "                users_df = sorted_df.groupby([\"date\"])['account_number'].nunique().reset_index(name=\"user count\")\n",
    "                fig = px.line(users_df, x=\"date\", y=\"user count\", title=\"Number of Users Over Time\", hover_name=[\"date\", \"user count\"])\n",
    "            \n",
    "            elif metric_choice == \"Sessions\":\n",
    "                sessions_df = sorted_df.groupby([\"date\"]).size().reset_index(name=\"session count\")\n",
    "                fig = px.line(sessions_df, x=\"date\", y=\"session count\", title=\"Number of Sessions Over Time\", hover_name=[\"date\", \"session count\"])\n",
    "            \n",
    "            fig.update_xaxes(rangeslider_visible=True)\n",
    "            return fig"
   ]
  },
  {
   "cell_type": "code",
   "execution_count": 62,
   "metadata": {},
   "outputs": [],
   "source": [
    "users_df_arr = []\n",
    "sessions_df_arr = []\n",
    "\n",
    "for bf in [\"check_balance\", \"paynow_transfer\", \"scan_to_pay\"]:\n",
    "    df = pd.read_csv('../csv/' + bf + '.csv')\n",
    "    df['date'] = pd.to_datetime(df['date'], format=\"%d/%m/%y\")\n",
    "    sorted_df = df.sort_values(by=\"date\")\n",
    "\n",
    "    users_df = sorted_df.groupby([\"date\"])['account_number'].nunique().reset_index(name= bf + \"_user_count\")\n",
    "    sessions_df = sorted_df.groupby([\"date\"]).size().reset_index(name= bf + \"_session_count\")\n",
    "\n",
    "    users_df_arr.append(users_df)\n",
    "    sessions_df_arr.append(sessions_df)\n",
    "\n",
    "# users_df_final = pd.concat(users_df_arr, axis=1, ignore_index=True)\n",
    "# sessions_df_final = pd.concat(sessions_df_arr, axis=1, ignore_index=True)\n",
    "\n",
    "users_df_final = pd.DataFrame({\"date\": []})\n",
    "for df in users_df_arr:\n",
    "    users_df_final = pd.merge(users_df_final, df, on='date', how='outer')\n",
    "\n",
    "sessions_df_final = pd.DataFrame({\"date\": []})\n",
    "for df in sessions_df_arr:\n",
    "    sessions_df_final = pd.merge(sessions_df_final, df, on='date', how='outer')"
   ]
  },
  {
   "cell_type": "code",
   "execution_count": 63,
   "metadata": {},
   "outputs": [
    {
     "data": {
      "text/html": [
       "<div>\n",
       "<style scoped>\n",
       "    .dataframe tbody tr th:only-of-type {\n",
       "        vertical-align: middle;\n",
       "    }\n",
       "\n",
       "    .dataframe tbody tr th {\n",
       "        vertical-align: top;\n",
       "    }\n",
       "\n",
       "    .dataframe thead th {\n",
       "        text-align: right;\n",
       "    }\n",
       "</style>\n",
       "<table border=\"1\" class=\"dataframe\">\n",
       "  <thead>\n",
       "    <tr style=\"text-align: right;\">\n",
       "      <th></th>\n",
       "      <th>date</th>\n",
       "      <th>check_balance_user_count</th>\n",
       "      <th>paynow_transfer_user_count</th>\n",
       "      <th>scan_to_pay_user_count</th>\n",
       "    </tr>\n",
       "  </thead>\n",
       "  <tbody>\n",
       "    <tr>\n",
       "      <th>0</th>\n",
       "      <td>2023-06-01</td>\n",
       "      <td>2</td>\n",
       "      <td>2</td>\n",
       "      <td>2</td>\n",
       "    </tr>\n",
       "    <tr>\n",
       "      <th>1</th>\n",
       "      <td>2023-06-02</td>\n",
       "      <td>3</td>\n",
       "      <td>3</td>\n",
       "      <td>3</td>\n",
       "    </tr>\n",
       "    <tr>\n",
       "      <th>2</th>\n",
       "      <td>2023-06-03</td>\n",
       "      <td>4</td>\n",
       "      <td>4</td>\n",
       "      <td>4</td>\n",
       "    </tr>\n",
       "    <tr>\n",
       "      <th>3</th>\n",
       "      <td>2023-07-01</td>\n",
       "      <td>6</td>\n",
       "      <td>6</td>\n",
       "      <td>6</td>\n",
       "    </tr>\n",
       "    <tr>\n",
       "      <th>4</th>\n",
       "      <td>2023-07-02</td>\n",
       "      <td>7</td>\n",
       "      <td>8</td>\n",
       "      <td>6</td>\n",
       "    </tr>\n",
       "  </tbody>\n",
       "</table>\n",
       "</div>"
      ],
      "text/plain": [
       "        date  check_balance_user_count  paynow_transfer_user_count  \\\n",
       "0 2023-06-01                         2                           2   \n",
       "1 2023-06-02                         3                           3   \n",
       "2 2023-06-03                         4                           4   \n",
       "3 2023-07-01                         6                           6   \n",
       "4 2023-07-02                         7                           8   \n",
       "\n",
       "   scan_to_pay_user_count  \n",
       "0                       2  \n",
       "1                       3  \n",
       "2                       4  \n",
       "3                       6  \n",
       "4                       6  "
      ]
     },
     "execution_count": 63,
     "metadata": {},
     "output_type": "execute_result"
    }
   ],
   "source": [
    "users_df_final.head(5)"
   ]
  },
  {
   "cell_type": "code",
   "execution_count": 64,
   "metadata": {},
   "outputs": [
    {
     "data": {
      "text/html": [
       "<div>\n",
       "<style scoped>\n",
       "    .dataframe tbody tr th:only-of-type {\n",
       "        vertical-align: middle;\n",
       "    }\n",
       "\n",
       "    .dataframe tbody tr th {\n",
       "        vertical-align: top;\n",
       "    }\n",
       "\n",
       "    .dataframe thead th {\n",
       "        text-align: right;\n",
       "    }\n",
       "</style>\n",
       "<table border=\"1\" class=\"dataframe\">\n",
       "  <thead>\n",
       "    <tr style=\"text-align: right;\">\n",
       "      <th></th>\n",
       "      <th>date</th>\n",
       "      <th>check_balance_session_count</th>\n",
       "      <th>paynow_transfer_session_count</th>\n",
       "      <th>scan_to_pay_session_count</th>\n",
       "    </tr>\n",
       "  </thead>\n",
       "  <tbody>\n",
       "    <tr>\n",
       "      <th>0</th>\n",
       "      <td>2023-06-01</td>\n",
       "      <td>2</td>\n",
       "      <td>2</td>\n",
       "      <td>2</td>\n",
       "    </tr>\n",
       "    <tr>\n",
       "      <th>1</th>\n",
       "      <td>2023-06-02</td>\n",
       "      <td>3</td>\n",
       "      <td>3</td>\n",
       "      <td>3</td>\n",
       "    </tr>\n",
       "    <tr>\n",
       "      <th>2</th>\n",
       "      <td>2023-06-03</td>\n",
       "      <td>4</td>\n",
       "      <td>4</td>\n",
       "      <td>4</td>\n",
       "    </tr>\n",
       "    <tr>\n",
       "      <th>3</th>\n",
       "      <td>2023-07-01</td>\n",
       "      <td>6</td>\n",
       "      <td>6</td>\n",
       "      <td>6</td>\n",
       "    </tr>\n",
       "    <tr>\n",
       "      <th>4</th>\n",
       "      <td>2023-07-02</td>\n",
       "      <td>8</td>\n",
       "      <td>8</td>\n",
       "      <td>8</td>\n",
       "    </tr>\n",
       "  </tbody>\n",
       "</table>\n",
       "</div>"
      ],
      "text/plain": [
       "        date  check_balance_session_count  paynow_transfer_session_count  \\\n",
       "0 2023-06-01                            2                              2   \n",
       "1 2023-06-02                            3                              3   \n",
       "2 2023-06-03                            4                              4   \n",
       "3 2023-07-01                            6                              6   \n",
       "4 2023-07-02                            8                              8   \n",
       "\n",
       "   scan_to_pay_session_count  \n",
       "0                          2  \n",
       "1                          3  \n",
       "2                          4  \n",
       "3                          6  \n",
       "4                          8  "
      ]
     },
     "execution_count": 64,
     "metadata": {},
     "output_type": "execute_result"
    }
   ],
   "source": [
    "sessions_df_final.head(5)"
   ]
  },
  {
   "cell_type": "code",
   "execution_count": 83,
   "metadata": {},
   "outputs": [
    {
     "data": {
      "application/vnd.plotly.v1+json": {
       "config": {
        "plotlyServerURL": "https://plotly.com"
       },
       "data": [
        {
         "hovertemplate": "variable=account_number_x<br>date=%{x}<br>value=%{y}<extra></extra>",
         "legendgroup": "account_number_x",
         "line": {
          "color": "#636efa",
          "dash": "solid",
          "width": 2
         },
         "mode": "lines",
         "name": "account_number_x",
         "orientation": "v",
         "showlegend": true,
         "type": "scatter",
         "x": [
          "2023-06-01T00:00:00",
          "2023-06-02T00:00:00",
          "2023-06-03T00:00:00",
          "2023-07-01T00:00:00",
          "2023-07-02T00:00:00",
          "2023-07-03T00:00:00",
          "2023-08-01T00:00:00"
         ],
         "xaxis": "x",
         "y": [
          2,
          3,
          4,
          6,
          7,
          7,
          8
         ],
         "yaxis": "y"
        },
        {
         "hovertemplate": "variable=account_number_y<br>date=%{x}<br>value=%{y}<extra></extra>",
         "legendgroup": "account_number_y",
         "line": {
          "color": "#EF553B",
          "dash": "solid",
          "width": 2
         },
         "mode": "lines",
         "name": "account_number_y",
         "orientation": "v",
         "showlegend": true,
         "type": "scatter",
         "x": [
          "2023-06-01T00:00:00",
          "2023-06-02T00:00:00",
          "2023-06-03T00:00:00",
          "2023-07-01T00:00:00",
          "2023-07-02T00:00:00",
          "2023-07-03T00:00:00",
          "2023-08-01T00:00:00"
         ],
         "xaxis": "x",
         "y": [
          2,
          3,
          4,
          6,
          8,
          9,
          8
         ],
         "yaxis": "y"
        },
        {
         "hovertemplate": "variable=account_number<br>date=%{x}<br>value=%{y}<extra></extra>",
         "legendgroup": "account_number",
         "line": {
          "color": "#00cc96",
          "dash": "solid",
          "width": 2
         },
         "mode": "lines",
         "name": "account_number",
         "orientation": "v",
         "showlegend": true,
         "type": "scatter",
         "x": [
          "2023-06-01T00:00:00",
          "2023-06-02T00:00:00",
          "2023-06-03T00:00:00",
          "2023-07-01T00:00:00",
          "2023-07-02T00:00:00",
          "2023-07-03T00:00:00",
          "2023-08-01T00:00:00"
         ],
         "xaxis": "x",
         "y": [
          2,
          3,
          4,
          6,
          6,
          8,
          9
         ],
         "yaxis": "y"
        }
       ],
       "layout": {
        "legend": {
         "title": {
          "text": "variable"
         },
         "tracegroupgap": 0
        },
        "margin": {
         "t": 60
        },
        "template": {
         "data": {
          "bar": [
           {
            "error_x": {
             "color": "#2a3f5f"
            },
            "error_y": {
             "color": "#2a3f5f"
            },
            "marker": {
             "line": {
              "color": "#E5ECF6",
              "width": 0.5
             },
             "pattern": {
              "fillmode": "overlay",
              "size": 10,
              "solidity": 0.2
             }
            },
            "type": "bar"
           }
          ],
          "barpolar": [
           {
            "marker": {
             "line": {
              "color": "#E5ECF6",
              "width": 0.5
             },
             "pattern": {
              "fillmode": "overlay",
              "size": 10,
              "solidity": 0.2
             }
            },
            "type": "barpolar"
           }
          ],
          "carpet": [
           {
            "aaxis": {
             "endlinecolor": "#2a3f5f",
             "gridcolor": "white",
             "linecolor": "white",
             "minorgridcolor": "white",
             "startlinecolor": "#2a3f5f"
            },
            "baxis": {
             "endlinecolor": "#2a3f5f",
             "gridcolor": "white",
             "linecolor": "white",
             "minorgridcolor": "white",
             "startlinecolor": "#2a3f5f"
            },
            "type": "carpet"
           }
          ],
          "choropleth": [
           {
            "colorbar": {
             "outlinewidth": 0,
             "ticks": ""
            },
            "type": "choropleth"
           }
          ],
          "contour": [
           {
            "colorbar": {
             "outlinewidth": 0,
             "ticks": ""
            },
            "colorscale": [
             [
              0,
              "#0d0887"
             ],
             [
              0.1111111111111111,
              "#46039f"
             ],
             [
              0.2222222222222222,
              "#7201a8"
             ],
             [
              0.3333333333333333,
              "#9c179e"
             ],
             [
              0.4444444444444444,
              "#bd3786"
             ],
             [
              0.5555555555555556,
              "#d8576b"
             ],
             [
              0.6666666666666666,
              "#ed7953"
             ],
             [
              0.7777777777777778,
              "#fb9f3a"
             ],
             [
              0.8888888888888888,
              "#fdca26"
             ],
             [
              1,
              "#f0f921"
             ]
            ],
            "type": "contour"
           }
          ],
          "contourcarpet": [
           {
            "colorbar": {
             "outlinewidth": 0,
             "ticks": ""
            },
            "type": "contourcarpet"
           }
          ],
          "heatmap": [
           {
            "colorbar": {
             "outlinewidth": 0,
             "ticks": ""
            },
            "colorscale": [
             [
              0,
              "#0d0887"
             ],
             [
              0.1111111111111111,
              "#46039f"
             ],
             [
              0.2222222222222222,
              "#7201a8"
             ],
             [
              0.3333333333333333,
              "#9c179e"
             ],
             [
              0.4444444444444444,
              "#bd3786"
             ],
             [
              0.5555555555555556,
              "#d8576b"
             ],
             [
              0.6666666666666666,
              "#ed7953"
             ],
             [
              0.7777777777777778,
              "#fb9f3a"
             ],
             [
              0.8888888888888888,
              "#fdca26"
             ],
             [
              1,
              "#f0f921"
             ]
            ],
            "type": "heatmap"
           }
          ],
          "heatmapgl": [
           {
            "colorbar": {
             "outlinewidth": 0,
             "ticks": ""
            },
            "colorscale": [
             [
              0,
              "#0d0887"
             ],
             [
              0.1111111111111111,
              "#46039f"
             ],
             [
              0.2222222222222222,
              "#7201a8"
             ],
             [
              0.3333333333333333,
              "#9c179e"
             ],
             [
              0.4444444444444444,
              "#bd3786"
             ],
             [
              0.5555555555555556,
              "#d8576b"
             ],
             [
              0.6666666666666666,
              "#ed7953"
             ],
             [
              0.7777777777777778,
              "#fb9f3a"
             ],
             [
              0.8888888888888888,
              "#fdca26"
             ],
             [
              1,
              "#f0f921"
             ]
            ],
            "type": "heatmapgl"
           }
          ],
          "histogram": [
           {
            "marker": {
             "pattern": {
              "fillmode": "overlay",
              "size": 10,
              "solidity": 0.2
             }
            },
            "type": "histogram"
           }
          ],
          "histogram2d": [
           {
            "colorbar": {
             "outlinewidth": 0,
             "ticks": ""
            },
            "colorscale": [
             [
              0,
              "#0d0887"
             ],
             [
              0.1111111111111111,
              "#46039f"
             ],
             [
              0.2222222222222222,
              "#7201a8"
             ],
             [
              0.3333333333333333,
              "#9c179e"
             ],
             [
              0.4444444444444444,
              "#bd3786"
             ],
             [
              0.5555555555555556,
              "#d8576b"
             ],
             [
              0.6666666666666666,
              "#ed7953"
             ],
             [
              0.7777777777777778,
              "#fb9f3a"
             ],
             [
              0.8888888888888888,
              "#fdca26"
             ],
             [
              1,
              "#f0f921"
             ]
            ],
            "type": "histogram2d"
           }
          ],
          "histogram2dcontour": [
           {
            "colorbar": {
             "outlinewidth": 0,
             "ticks": ""
            },
            "colorscale": [
             [
              0,
              "#0d0887"
             ],
             [
              0.1111111111111111,
              "#46039f"
             ],
             [
              0.2222222222222222,
              "#7201a8"
             ],
             [
              0.3333333333333333,
              "#9c179e"
             ],
             [
              0.4444444444444444,
              "#bd3786"
             ],
             [
              0.5555555555555556,
              "#d8576b"
             ],
             [
              0.6666666666666666,
              "#ed7953"
             ],
             [
              0.7777777777777778,
              "#fb9f3a"
             ],
             [
              0.8888888888888888,
              "#fdca26"
             ],
             [
              1,
              "#f0f921"
             ]
            ],
            "type": "histogram2dcontour"
           }
          ],
          "mesh3d": [
           {
            "colorbar": {
             "outlinewidth": 0,
             "ticks": ""
            },
            "type": "mesh3d"
           }
          ],
          "parcoords": [
           {
            "line": {
             "colorbar": {
              "outlinewidth": 0,
              "ticks": ""
             }
            },
            "type": "parcoords"
           }
          ],
          "pie": [
           {
            "automargin": true,
            "type": "pie"
           }
          ],
          "scatter": [
           {
            "marker": {
             "colorbar": {
              "outlinewidth": 0,
              "ticks": ""
             }
            },
            "type": "scatter"
           }
          ],
          "scatter3d": [
           {
            "line": {
             "colorbar": {
              "outlinewidth": 0,
              "ticks": ""
             }
            },
            "marker": {
             "colorbar": {
              "outlinewidth": 0,
              "ticks": ""
             }
            },
            "type": "scatter3d"
           }
          ],
          "scattercarpet": [
           {
            "marker": {
             "colorbar": {
              "outlinewidth": 0,
              "ticks": ""
             }
            },
            "type": "scattercarpet"
           }
          ],
          "scattergeo": [
           {
            "marker": {
             "colorbar": {
              "outlinewidth": 0,
              "ticks": ""
             }
            },
            "type": "scattergeo"
           }
          ],
          "scattergl": [
           {
            "marker": {
             "colorbar": {
              "outlinewidth": 0,
              "ticks": ""
             }
            },
            "type": "scattergl"
           }
          ],
          "scattermapbox": [
           {
            "marker": {
             "colorbar": {
              "outlinewidth": 0,
              "ticks": ""
             }
            },
            "type": "scattermapbox"
           }
          ],
          "scatterpolar": [
           {
            "marker": {
             "colorbar": {
              "outlinewidth": 0,
              "ticks": ""
             }
            },
            "type": "scatterpolar"
           }
          ],
          "scatterpolargl": [
           {
            "marker": {
             "colorbar": {
              "outlinewidth": 0,
              "ticks": ""
             }
            },
            "type": "scatterpolargl"
           }
          ],
          "scatterternary": [
           {
            "marker": {
             "colorbar": {
              "outlinewidth": 0,
              "ticks": ""
             }
            },
            "type": "scatterternary"
           }
          ],
          "surface": [
           {
            "colorbar": {
             "outlinewidth": 0,
             "ticks": ""
            },
            "colorscale": [
             [
              0,
              "#0d0887"
             ],
             [
              0.1111111111111111,
              "#46039f"
             ],
             [
              0.2222222222222222,
              "#7201a8"
             ],
             [
              0.3333333333333333,
              "#9c179e"
             ],
             [
              0.4444444444444444,
              "#bd3786"
             ],
             [
              0.5555555555555556,
              "#d8576b"
             ],
             [
              0.6666666666666666,
              "#ed7953"
             ],
             [
              0.7777777777777778,
              "#fb9f3a"
             ],
             [
              0.8888888888888888,
              "#fdca26"
             ],
             [
              1,
              "#f0f921"
             ]
            ],
            "type": "surface"
           }
          ],
          "table": [
           {
            "cells": {
             "fill": {
              "color": "#EBF0F8"
             },
             "line": {
              "color": "white"
             }
            },
            "header": {
             "fill": {
              "color": "#C8D4E3"
             },
             "line": {
              "color": "white"
             }
            },
            "type": "table"
           }
          ]
         },
         "layout": {
          "annotationdefaults": {
           "arrowcolor": "#2a3f5f",
           "arrowhead": 0,
           "arrowwidth": 1
          },
          "autotypenumbers": "strict",
          "coloraxis": {
           "colorbar": {
            "outlinewidth": 0,
            "ticks": ""
           }
          },
          "colorscale": {
           "diverging": [
            [
             0,
             "#8e0152"
            ],
            [
             0.1,
             "#c51b7d"
            ],
            [
             0.2,
             "#de77ae"
            ],
            [
             0.3,
             "#f1b6da"
            ],
            [
             0.4,
             "#fde0ef"
            ],
            [
             0.5,
             "#f7f7f7"
            ],
            [
             0.6,
             "#e6f5d0"
            ],
            [
             0.7,
             "#b8e186"
            ],
            [
             0.8,
             "#7fbc41"
            ],
            [
             0.9,
             "#4d9221"
            ],
            [
             1,
             "#276419"
            ]
           ],
           "sequential": [
            [
             0,
             "#0d0887"
            ],
            [
             0.1111111111111111,
             "#46039f"
            ],
            [
             0.2222222222222222,
             "#7201a8"
            ],
            [
             0.3333333333333333,
             "#9c179e"
            ],
            [
             0.4444444444444444,
             "#bd3786"
            ],
            [
             0.5555555555555556,
             "#d8576b"
            ],
            [
             0.6666666666666666,
             "#ed7953"
            ],
            [
             0.7777777777777778,
             "#fb9f3a"
            ],
            [
             0.8888888888888888,
             "#fdca26"
            ],
            [
             1,
             "#f0f921"
            ]
           ],
           "sequentialminus": [
            [
             0,
             "#0d0887"
            ],
            [
             0.1111111111111111,
             "#46039f"
            ],
            [
             0.2222222222222222,
             "#7201a8"
            ],
            [
             0.3333333333333333,
             "#9c179e"
            ],
            [
             0.4444444444444444,
             "#bd3786"
            ],
            [
             0.5555555555555556,
             "#d8576b"
            ],
            [
             0.6666666666666666,
             "#ed7953"
            ],
            [
             0.7777777777777778,
             "#fb9f3a"
            ],
            [
             0.8888888888888888,
             "#fdca26"
            ],
            [
             1,
             "#f0f921"
            ]
           ]
          },
          "colorway": [
           "#636efa",
           "#EF553B",
           "#00cc96",
           "#ab63fa",
           "#FFA15A",
           "#19d3f3",
           "#FF6692",
           "#B6E880",
           "#FF97FF",
           "#FECB52"
          ],
          "font": {
           "color": "#2a3f5f"
          },
          "geo": {
           "bgcolor": "white",
           "lakecolor": "white",
           "landcolor": "#E5ECF6",
           "showlakes": true,
           "showland": true,
           "subunitcolor": "white"
          },
          "hoverlabel": {
           "align": "left"
          },
          "hovermode": "closest",
          "mapbox": {
           "style": "light"
          },
          "paper_bgcolor": "white",
          "plot_bgcolor": "#E5ECF6",
          "polar": {
           "angularaxis": {
            "gridcolor": "white",
            "linecolor": "white",
            "ticks": ""
           },
           "bgcolor": "#E5ECF6",
           "radialaxis": {
            "gridcolor": "white",
            "linecolor": "white",
            "ticks": ""
           }
          },
          "scene": {
           "xaxis": {
            "backgroundcolor": "#E5ECF6",
            "gridcolor": "white",
            "gridwidth": 2,
            "linecolor": "white",
            "showbackground": true,
            "ticks": "",
            "zerolinecolor": "white"
           },
           "yaxis": {
            "backgroundcolor": "#E5ECF6",
            "gridcolor": "white",
            "gridwidth": 2,
            "linecolor": "white",
            "showbackground": true,
            "ticks": "",
            "zerolinecolor": "white"
           },
           "zaxis": {
            "backgroundcolor": "#E5ECF6",
            "gridcolor": "white",
            "gridwidth": 2,
            "linecolor": "white",
            "showbackground": true,
            "ticks": "",
            "zerolinecolor": "white"
           }
          },
          "shapedefaults": {
           "line": {
            "color": "#2a3f5f"
           }
          },
          "ternary": {
           "aaxis": {
            "gridcolor": "white",
            "linecolor": "white",
            "ticks": ""
           },
           "baxis": {
            "gridcolor": "white",
            "linecolor": "white",
            "ticks": ""
           },
           "bgcolor": "#E5ECF6",
           "caxis": {
            "gridcolor": "white",
            "linecolor": "white",
            "ticks": ""
           }
          },
          "title": {
           "x": 0.05
          },
          "xaxis": {
           "automargin": true,
           "gridcolor": "white",
           "linecolor": "white",
           "ticks": "",
           "title": {
            "standoff": 15
           },
           "zerolinecolor": "white",
           "zerolinewidth": 2
          },
          "yaxis": {
           "automargin": true,
           "gridcolor": "white",
           "linecolor": "white",
           "ticks": "",
           "title": {
            "standoff": 15
           },
           "zerolinecolor": "white",
           "zerolinewidth": 2
          }
         }
        },
        "xaxis": {
         "anchor": "y",
         "domain": [
          0,
          1
         ],
         "title": {
          "text": "date"
         }
        },
        "yaxis": {
         "anchor": "x",
         "domain": [
          0,
          1
         ],
         "title": {
          "text": "user count"
         }
        }
       }
      }
     },
     "metadata": {},
     "output_type": "display_data"
    }
   ],
   "source": [
    "check_balance_df = pd.read_csv('../csv/check_balance.csv')\n",
    "paynow_transfer_df = pd.read_csv('../csv/paynow_transfer.csv')\n",
    "scan_to_pay_df = pd.read_csv('../csv/scan_to_pay.csv')\n",
    "\n",
    "metric_choice=\"Users\"\n",
    "\n",
    "def process_bank_function(df, metric_choice):\n",
    "    df['date'] = pd.to_datetime(df['date'], format=\"%d/%m/%y\")\n",
    "    df.sort_values(by=\"date\", inplace=True)\n",
    "\n",
    "    if metric_choice == \"Users\":\n",
    "        return df.groupby([\"date\"])['account_number'].nunique().reset_index()\n",
    "    \n",
    "    elif metric_choice == \"Sessions\":\n",
    "        return df.groupby([\"date\"]).size().reset_index()\n",
    "    \n",
    "final_df = pd.DataFrame({\"date\": []})\n",
    "for df in [check_balance_df, paynow_transfer_df, scan_to_pay_df]:\n",
    "    dff = process_bank_function(df, metric_choice)\n",
    "    final_df = pd.merge(final_df, dff, on='date', how='outer')\n",
    "\n",
    "overview_user_metrics_fig = px.line(final_df, x='date', y=final_df.columns)\n",
    "overview_user_metrics_fig.update_layout(yaxis_title='user count')\n",
    "overview_user_metrics_fig.update_traces(line={'width': 2})"
   ]
  },
  {
   "cell_type": "code",
   "execution_count": null,
   "metadata": {},
   "outputs": [],
   "source": [
    "# generate user metrics chart\n",
    "def get_fig(df, metric_choice):\n",
    "    df['date'] = pd.to_datetime(df['date'], format=\"%d/%m/%y\")\n",
    "    sorted_df = df.sort_values(by=\"date\")\n",
    "    \n",
    "    if metric_choice == \"Users\":\n",
    "        df = sorted_df.groupby([\"date\"])['account_number'].nunique().reset_index(name=\"user count\")\n",
    "        # fig = px.line(users_df, x=\"date\", y=\"user count\", title=\"Number of Users Over Time\")\n",
    "    \n",
    "    elif metric_choice == \"Sessions\":\n",
    "        df = sorted_df.groupby([\"date\"]).size().reset_index(name=\"session count\")\n",
    "        # fig = px.line(sessions_df, x=\"date\", y=\"session count\", title=\"Number of Sessions Over Time\")\n",
    "    return df\n",
    "    \n",
    "fig = px.line(sessions_df, x=\"date\", y=\"session count\", title=\"Number of {} Over Time\".format(metric_choice))\n",
    "fig.update_xaxes(rangeslider_visible=True)"
   ]
  },
  {
   "cell_type": "code",
   "execution_count": null,
   "metadata": {},
   "outputs": [],
   "source": [
    "def process_bank_function(df, metric_choice, bf):\n",
    "        df['date'] = pd.to_datetime(df['date'], format=\"%d/%m/%y\")\n",
    "        df.sort_values(by=\"date\", inplace=True)\n",
    "\n",
    "        if metric_choice == \"Users\":\n",
    "            return df.groupby([\"date\"])['account_number'].nunique().reset_index(name=bf)\n",
    "        \n",
    "        elif metric_choice == \"Sessions\":\n",
    "            return df.groupby([\"date\"]).size().reset_index(name=bf)\n",
    "    \n",
    "bf_csv = {\"check balance\": check_balance_df, \"paynow transfer\": paynow_transfer_df, \"scan to pay\": scan_to_pay_df}\n",
    "bf_colour = {'check balance': '#92C0D8', 'paynow transfer': '#FDCA8C', 'scan to pay': '#9DD4A3'}\n",
    "\n",
    "final_df = pd.DataFrame({\"date\": []})\n",
    "for bf in bf_csv:\n",
    "    df = bf_csv[bf]\n",
    "    dff = process_bank_function(df, metric_choice, bf)\n",
    "    final_df = pd.merge(final_df, dff, on='date', how='outer')"
   ]
  },
  {
   "cell_type": "code",
   "execution_count": 11,
   "metadata": {},
   "outputs": [
    {
     "name": "stdout",
     "output_type": "stream",
     "text": [
      "time taken 0 minutes, 12 seconds\n"
     ]
    }
   ],
   "source": [
    "## big query connector\n",
    "import pandas_gbq\n",
    "from google.oauth2 import service_account\n",
    "import pandas as pd\n",
    "\n",
    "import time\n",
    "start_time = time.time()\n",
    "\n",
    "credentials = service_account.Credentials.from_service_account_file('smu-fyp-396613-6aefbba11d63.json')\n",
    "project_id = 'smu-fyp-396613'\n",
    "\n",
    "check_balances_df_sql = f\"\"\"\n",
    "SELECT *\n",
    "FROM smufyp.check_balance_sessions\n",
    "\"\"\"\n",
    "\n",
    "paynow_transfer_df_sql = f\"\"\"\n",
    "SELECT *\n",
    "FROM smufyp.paynow_transfer_sessions\n",
    "\"\"\"\n",
    "\n",
    "scan_to_pay_df_sql = f\"\"\"\n",
    "SELECT *\n",
    "FROM smufyp.scan_to_pay_sessions\n",
    "\"\"\"\n",
    "\n",
    "overview_df_sql = f\"\"\"\n",
    "SELECT *\n",
    "FROM smufyp.unrecognized_messages\n",
    "\"\"\"\n",
    "\n",
    "check_balances_df = pd.read_gbq(check_balances_df_sql, project_id=project_id, dialect='standard', credentials=credentials)\n",
    "paynow_transfer_df = pd.read_gbq(paynow_transfer_df_sql, project_id=project_id, dialect='standard', credentials=credentials)\n",
    "scan_to_pay_df = pd.read_gbq(scan_to_pay_df_sql, project_id=project_id, dialect='standard', credentials=credentials)\n",
    "overview_df = pd.read_gbq(overview_df_sql, project_id=project_id, dialect='standard', credentials=credentials)\n",
    "\n",
    "end_time = time.time()\n",
    "\n",
    "time_taken = end_time - start_time\n",
    "minutes = int(time_taken // 60)\n",
    "seconds = int(time_taken % 60)\n",
    "\n",
    "print(f\"time taken {minutes} minutes, {seconds} seconds\")\n"
   ]
  },
  {
   "cell_type": "code",
   "execution_count": 12,
   "metadata": {},
   "outputs": [
    {
     "data": {
      "text/html": [
       "<div>\n",
       "<style scoped>\n",
       "    .dataframe tbody tr th:only-of-type {\n",
       "        vertical-align: middle;\n",
       "    }\n",
       "\n",
       "    .dataframe tbody tr th {\n",
       "        vertical-align: top;\n",
       "    }\n",
       "\n",
       "    .dataframe thead th {\n",
       "        text-align: right;\n",
       "    }\n",
       "</style>\n",
       "<table border=\"1\" class=\"dataframe\">\n",
       "  <thead>\n",
       "    <tr style=\"text-align: right;\">\n",
       "      <th></th>\n",
       "      <th>session_id</th>\n",
       "      <th>bank_function</th>\n",
       "      <th>date</th>\n",
       "      <th>account_number</th>\n",
       "      <th>see_past_transactions</th>\n",
       "      <th>session_rating</th>\n",
       "    </tr>\n",
       "  </thead>\n",
       "  <tbody>\n",
       "    <tr>\n",
       "      <th>0</th>\n",
       "      <td>29dcc22</td>\n",
       "      <td>Check Balance</td>\n",
       "      <td>27/09/23</td>\n",
       "      <td>1000</td>\n",
       "      <td>None</td>\n",
       "      <td>5.0</td>\n",
       "    </tr>\n",
       "    <tr>\n",
       "      <th>1</th>\n",
       "      <td>0e39bee</td>\n",
       "      <td>Check Balance</td>\n",
       "      <td>27/09/23</td>\n",
       "      <td>2000</td>\n",
       "      <td>None</td>\n",
       "      <td>5.0</td>\n",
       "    </tr>\n",
       "    <tr>\n",
       "      <th>2</th>\n",
       "      <td>00c6614</td>\n",
       "      <td>Check Balance</td>\n",
       "      <td>27/09/23</td>\n",
       "      <td>1</td>\n",
       "      <td>None</td>\n",
       "      <td>NaN</td>\n",
       "    </tr>\n",
       "    <tr>\n",
       "      <th>3</th>\n",
       "      <td>ccbfe09</td>\n",
       "      <td>Check Balance</td>\n",
       "      <td>27/09/23</td>\n",
       "      <td>2000</td>\n",
       "      <td>None</td>\n",
       "      <td>3.0</td>\n",
       "    </tr>\n",
       "    <tr>\n",
       "      <th>4</th>\n",
       "      <td>9079ba7</td>\n",
       "      <td>Check Balance</td>\n",
       "      <td>27/09/23</td>\n",
       "      <td>1000</td>\n",
       "      <td>None</td>\n",
       "      <td>5.0</td>\n",
       "    </tr>\n",
       "    <tr>\n",
       "      <th>5</th>\n",
       "      <td>d0486f7</td>\n",
       "      <td>Check Balance</td>\n",
       "      <td>27/09/23</td>\n",
       "      <td>1000</td>\n",
       "      <td>None</td>\n",
       "      <td>NaN</td>\n",
       "    </tr>\n",
       "    <tr>\n",
       "      <th>6</th>\n",
       "      <td>7b2c757</td>\n",
       "      <td>Check Balance</td>\n",
       "      <td>27/09/23</td>\n",
       "      <td>1</td>\n",
       "      <td>None</td>\n",
       "      <td>NaN</td>\n",
       "    </tr>\n",
       "    <tr>\n",
       "      <th>7</th>\n",
       "      <td>48073e7</td>\n",
       "      <td>Check Balance</td>\n",
       "      <td>27/09/23</td>\n",
       "      <td>1000</td>\n",
       "      <td>None</td>\n",
       "      <td>2.0</td>\n",
       "    </tr>\n",
       "    <tr>\n",
       "      <th>8</th>\n",
       "      <td>e1b5881</td>\n",
       "      <td>Check Balance</td>\n",
       "      <td>27/09/23</td>\n",
       "      <td>1000</td>\n",
       "      <td>yes 7 days</td>\n",
       "      <td>5.0</td>\n",
       "    </tr>\n",
       "    <tr>\n",
       "      <th>9</th>\n",
       "      <td>f950486</td>\n",
       "      <td>Check Balance</td>\n",
       "      <td>27/09/23</td>\n",
       "      <td>1000</td>\n",
       "      <td>yes 7 days</td>\n",
       "      <td>2.5</td>\n",
       "    </tr>\n",
       "    <tr>\n",
       "      <th>10</th>\n",
       "      <td>ee1f834</td>\n",
       "      <td>Check Balance</td>\n",
       "      <td>27/09/23</td>\n",
       "      <td>2000</td>\n",
       "      <td>yes 7 days</td>\n",
       "      <td>5.0</td>\n",
       "    </tr>\n",
       "    <tr>\n",
       "      <th>11</th>\n",
       "      <td>e1b5881</td>\n",
       "      <td>Check Balance</td>\n",
       "      <td>27/09/23</td>\n",
       "      <td>2000</td>\n",
       "      <td>yes 7 days</td>\n",
       "      <td>5.0</td>\n",
       "    </tr>\n",
       "    <tr>\n",
       "      <th>12</th>\n",
       "      <td>3a50f79</td>\n",
       "      <td>Check Balance</td>\n",
       "      <td>27/09/23</td>\n",
       "      <td>1000</td>\n",
       "      <td>yes 30 days</td>\n",
       "      <td>4.0</td>\n",
       "    </tr>\n",
       "    <tr>\n",
       "      <th>13</th>\n",
       "      <td>05b7f65</td>\n",
       "      <td>Check Balance</td>\n",
       "      <td>28/09/23</td>\n",
       "      <td>1000</td>\n",
       "      <td>None</td>\n",
       "      <td>NaN</td>\n",
       "    </tr>\n",
       "    <tr>\n",
       "      <th>14</th>\n",
       "      <td>ce2e0ca</td>\n",
       "      <td>Check Balance</td>\n",
       "      <td>28/09/23</td>\n",
       "      <td>1000</td>\n",
       "      <td>None</td>\n",
       "      <td>NaN</td>\n",
       "    </tr>\n",
       "    <tr>\n",
       "      <th>15</th>\n",
       "      <td>ce2e0ca</td>\n",
       "      <td>Check Balance</td>\n",
       "      <td>28/09/23</td>\n",
       "      <td>2000</td>\n",
       "      <td>None</td>\n",
       "      <td>NaN</td>\n",
       "    </tr>\n",
       "    <tr>\n",
       "      <th>16</th>\n",
       "      <td>f581442</td>\n",
       "      <td>Check Balance</td>\n",
       "      <td>28/09/23</td>\n",
       "      <td>1000</td>\n",
       "      <td>None</td>\n",
       "      <td>NaN</td>\n",
       "    </tr>\n",
       "    <tr>\n",
       "      <th>17</th>\n",
       "      <td>aa6ba4c</td>\n",
       "      <td>Check Balance</td>\n",
       "      <td>28/09/23</td>\n",
       "      <td>1000</td>\n",
       "      <td>None</td>\n",
       "      <td>NaN</td>\n",
       "    </tr>\n",
       "    <tr>\n",
       "      <th>18</th>\n",
       "      <td>50e353b</td>\n",
       "      <td>Check Balance</td>\n",
       "      <td>28/09/23</td>\n",
       "      <td>1000</td>\n",
       "      <td>None</td>\n",
       "      <td>NaN</td>\n",
       "    </tr>\n",
       "    <tr>\n",
       "      <th>19</th>\n",
       "      <td>50a7072</td>\n",
       "      <td>Check Balance</td>\n",
       "      <td>28/09/23</td>\n",
       "      <td>1000</td>\n",
       "      <td>None</td>\n",
       "      <td>NaN</td>\n",
       "    </tr>\n",
       "    <tr>\n",
       "      <th>20</th>\n",
       "      <td>eb248a1</td>\n",
       "      <td>Check Balance</td>\n",
       "      <td>28/09/23</td>\n",
       "      <td>1000</td>\n",
       "      <td>None</td>\n",
       "      <td>NaN</td>\n",
       "    </tr>\n",
       "    <tr>\n",
       "      <th>21</th>\n",
       "      <td>aeebc37</td>\n",
       "      <td>Check Balance</td>\n",
       "      <td>28/09/23</td>\n",
       "      <td>1000</td>\n",
       "      <td>Yes 7 days</td>\n",
       "      <td>NaN</td>\n",
       "    </tr>\n",
       "    <tr>\n",
       "      <th>22</th>\n",
       "      <td>cad2775</td>\n",
       "      <td>Check Balance</td>\n",
       "      <td>28/09/23</td>\n",
       "      <td>2000</td>\n",
       "      <td>Yes 7 days</td>\n",
       "      <td>NaN</td>\n",
       "    </tr>\n",
       "    <tr>\n",
       "      <th>23</th>\n",
       "      <td>3d4a177</td>\n",
       "      <td>Check Balance</td>\n",
       "      <td>28/09/23</td>\n",
       "      <td>1000</td>\n",
       "      <td>Yes 7 days</td>\n",
       "      <td>NaN</td>\n",
       "    </tr>\n",
       "    <tr>\n",
       "      <th>24</th>\n",
       "      <td>3d4a177</td>\n",
       "      <td>Check Balance</td>\n",
       "      <td>28/09/23</td>\n",
       "      <td>2000</td>\n",
       "      <td>Yes 7 days</td>\n",
       "      <td>NaN</td>\n",
       "    </tr>\n",
       "    <tr>\n",
       "      <th>25</th>\n",
       "      <td>fbcea3e</td>\n",
       "      <td>Check Balance</td>\n",
       "      <td>28/09/23</td>\n",
       "      <td>1000</td>\n",
       "      <td>Yes 7 days</td>\n",
       "      <td>NaN</td>\n",
       "    </tr>\n",
       "    <tr>\n",
       "      <th>26</th>\n",
       "      <td>d894fc9</td>\n",
       "      <td>Check Balance</td>\n",
       "      <td>28/09/23</td>\n",
       "      <td>1000</td>\n",
       "      <td>Yes 30 days</td>\n",
       "      <td>NaN</td>\n",
       "    </tr>\n",
       "  </tbody>\n",
       "</table>\n",
       "</div>"
      ],
      "text/plain": [
       "   session_id  bank_function      date account_number see_past_transactions  \\\n",
       "0     29dcc22  Check Balance  27/09/23           1000                  None   \n",
       "1     0e39bee  Check Balance  27/09/23           2000                  None   \n",
       "2     00c6614  Check Balance  27/09/23              1                  None   \n",
       "3     ccbfe09  Check Balance  27/09/23           2000                  None   \n",
       "4     9079ba7  Check Balance  27/09/23           1000                  None   \n",
       "5     d0486f7  Check Balance  27/09/23           1000                  None   \n",
       "6     7b2c757  Check Balance  27/09/23              1                  None   \n",
       "7     48073e7  Check Balance  27/09/23           1000                  None   \n",
       "8     e1b5881  Check Balance  27/09/23           1000            yes 7 days   \n",
       "9     f950486  Check Balance  27/09/23           1000            yes 7 days   \n",
       "10    ee1f834  Check Balance  27/09/23           2000            yes 7 days   \n",
       "11    e1b5881  Check Balance  27/09/23           2000            yes 7 days   \n",
       "12    3a50f79  Check Balance  27/09/23           1000           yes 30 days   \n",
       "13    05b7f65  Check Balance  28/09/23           1000                  None   \n",
       "14    ce2e0ca  Check Balance  28/09/23           1000                  None   \n",
       "15    ce2e0ca  Check Balance  28/09/23           2000                  None   \n",
       "16    f581442  Check Balance  28/09/23           1000                  None   \n",
       "17    aa6ba4c  Check Balance  28/09/23           1000                  None   \n",
       "18    50e353b  Check Balance  28/09/23           1000                  None   \n",
       "19    50a7072  Check Balance  28/09/23           1000                  None   \n",
       "20    eb248a1  Check Balance  28/09/23           1000                  None   \n",
       "21    aeebc37  Check Balance  28/09/23           1000            Yes 7 days   \n",
       "22    cad2775  Check Balance  28/09/23           2000            Yes 7 days   \n",
       "23    3d4a177  Check Balance  28/09/23           1000            Yes 7 days   \n",
       "24    3d4a177  Check Balance  28/09/23           2000            Yes 7 days   \n",
       "25    fbcea3e  Check Balance  28/09/23           1000            Yes 7 days   \n",
       "26    d894fc9  Check Balance  28/09/23           1000           Yes 30 days   \n",
       "\n",
       "    session_rating  \n",
       "0              5.0  \n",
       "1              5.0  \n",
       "2              NaN  \n",
       "3              3.0  \n",
       "4              5.0  \n",
       "5              NaN  \n",
       "6              NaN  \n",
       "7              2.0  \n",
       "8              5.0  \n",
       "9              2.5  \n",
       "10             5.0  \n",
       "11             5.0  \n",
       "12             4.0  \n",
       "13             NaN  \n",
       "14             NaN  \n",
       "15             NaN  \n",
       "16             NaN  \n",
       "17             NaN  \n",
       "18             NaN  \n",
       "19             NaN  \n",
       "20             NaN  \n",
       "21             NaN  \n",
       "22             NaN  \n",
       "23             NaN  \n",
       "24             NaN  \n",
       "25             NaN  \n",
       "26             NaN  "
      ]
     },
     "execution_count": 12,
     "metadata": {},
     "output_type": "execute_result"
    }
   ],
   "source": [
    "check_balances_df"
   ]
  },
  {
   "cell_type": "code",
   "execution_count": 13,
   "metadata": {},
   "outputs": [
    {
     "data": {
      "text/html": [
       "<div>\n",
       "<style scoped>\n",
       "    .dataframe tbody tr th:only-of-type {\n",
       "        vertical-align: middle;\n",
       "    }\n",
       "\n",
       "    .dataframe tbody tr th {\n",
       "        vertical-align: top;\n",
       "    }\n",
       "\n",
       "    .dataframe thead th {\n",
       "        text-align: right;\n",
       "    }\n",
       "</style>\n",
       "<table border=\"1\" class=\"dataframe\">\n",
       "  <thead>\n",
       "    <tr style=\"text-align: right;\">\n",
       "      <th></th>\n",
       "      <th>session_id</th>\n",
       "      <th>bank_function</th>\n",
       "      <th>date</th>\n",
       "      <th>account_number</th>\n",
       "      <th>recipient_number</th>\n",
       "      <th>amount</th>\n",
       "      <th>session_rating</th>\n",
       "    </tr>\n",
       "  </thead>\n",
       "  <tbody>\n",
       "    <tr>\n",
       "      <th>0</th>\n",
       "      <td>50a7072</td>\n",
       "      <td>Paynow Transfer</td>\n",
       "      <td>28/09/23</td>\n",
       "      <td>+6597988922</td>\n",
       "      <td>None</td>\n",
       "      <td>None</td>\n",
       "      <td>NaN</td>\n",
       "    </tr>\n",
       "    <tr>\n",
       "      <th>1</th>\n",
       "      <td>0fcd0df</td>\n",
       "      <td>Paynow Transfer</td>\n",
       "      <td>27/09/23</td>\n",
       "      <td>+6597988922</td>\n",
       "      <td>None</td>\n",
       "      <td>None</td>\n",
       "      <td>NaN</td>\n",
       "    </tr>\n",
       "    <tr>\n",
       "      <th>2</th>\n",
       "      <td>53599dc</td>\n",
       "      <td>Paynow Transfer</td>\n",
       "      <td>27/09/23</td>\n",
       "      <td>+6597988922</td>\n",
       "      <td>None</td>\n",
       "      <td>None</td>\n",
       "      <td>NaN</td>\n",
       "    </tr>\n",
       "    <tr>\n",
       "      <th>3</th>\n",
       "      <td>b1f5321</td>\n",
       "      <td>Paynow Transfer</td>\n",
       "      <td>28/09/23</td>\n",
       "      <td>+6594551972</td>\n",
       "      <td>94551972</td>\n",
       "      <td>200</td>\n",
       "      <td>NaN</td>\n",
       "    </tr>\n",
       "    <tr>\n",
       "      <th>4</th>\n",
       "      <td>50e353b</td>\n",
       "      <td>Paynow Transfer</td>\n",
       "      <td>28/09/23</td>\n",
       "      <td>+6597988922</td>\n",
       "      <td>97988922</td>\n",
       "      <td>200</td>\n",
       "      <td>NaN</td>\n",
       "    </tr>\n",
       "    <tr>\n",
       "      <th>5</th>\n",
       "      <td>3d4a177</td>\n",
       "      <td>Paynow Transfer</td>\n",
       "      <td>28/09/23</td>\n",
       "      <td>+6597988922</td>\n",
       "      <td>97988922</td>\n",
       "      <td>100</td>\n",
       "      <td>NaN</td>\n",
       "    </tr>\n",
       "    <tr>\n",
       "      <th>6</th>\n",
       "      <td>cad2775</td>\n",
       "      <td>Paynow Transfer</td>\n",
       "      <td>28/09/23</td>\n",
       "      <td>+6597988922</td>\n",
       "      <td>97988922</td>\n",
       "      <td>200</td>\n",
       "      <td>NaN</td>\n",
       "    </tr>\n",
       "    <tr>\n",
       "      <th>7</th>\n",
       "      <td>fbcea3e</td>\n",
       "      <td>Paynow Transfer</td>\n",
       "      <td>28/09/23</td>\n",
       "      <td>+6597988922</td>\n",
       "      <td>97988922</td>\n",
       "      <td>5</td>\n",
       "      <td>NaN</td>\n",
       "    </tr>\n",
       "    <tr>\n",
       "      <th>8</th>\n",
       "      <td>fd133a6</td>\n",
       "      <td>Paynow Transfer</td>\n",
       "      <td>27/09/23</td>\n",
       "      <td>+6597988922</td>\n",
       "      <td>s9819533h</td>\n",
       "      <td>50</td>\n",
       "      <td>3.0</td>\n",
       "    </tr>\n",
       "    <tr>\n",
       "      <th>9</th>\n",
       "      <td>920d00d</td>\n",
       "      <td>Paynow Transfer</td>\n",
       "      <td>27/09/23</td>\n",
       "      <td>+6597988922</td>\n",
       "      <td>84821234</td>\n",
       "      <td>50</td>\n",
       "      <td>4.0</td>\n",
       "    </tr>\n",
       "    <tr>\n",
       "      <th>10</th>\n",
       "      <td>26f5057</td>\n",
       "      <td>Paynow Transfer</td>\n",
       "      <td>27/09/23</td>\n",
       "      <td>+6594512425</td>\n",
       "      <td>94512425</td>\n",
       "      <td>1000</td>\n",
       "      <td>5.0</td>\n",
       "    </tr>\n",
       "    <tr>\n",
       "      <th>11</th>\n",
       "      <td>26f5057</td>\n",
       "      <td>Paynow Transfer</td>\n",
       "      <td>27/09/23</td>\n",
       "      <td>+6594512425</td>\n",
       "      <td>94512425</td>\n",
       "      <td>123</td>\n",
       "      <td>5.0</td>\n",
       "    </tr>\n",
       "  </tbody>\n",
       "</table>\n",
       "</div>"
      ],
      "text/plain": [
       "   session_id    bank_function      date account_number recipient_number  \\\n",
       "0     50a7072  Paynow Transfer  28/09/23    +6597988922             None   \n",
       "1     0fcd0df  Paynow Transfer  27/09/23    +6597988922             None   \n",
       "2     53599dc  Paynow Transfer  27/09/23    +6597988922             None   \n",
       "3     b1f5321  Paynow Transfer  28/09/23    +6594551972         94551972   \n",
       "4     50e353b  Paynow Transfer  28/09/23    +6597988922         97988922   \n",
       "5     3d4a177  Paynow Transfer  28/09/23    +6597988922         97988922   \n",
       "6     cad2775  Paynow Transfer  28/09/23    +6597988922         97988922   \n",
       "7     fbcea3e  Paynow Transfer  28/09/23    +6597988922         97988922   \n",
       "8     fd133a6  Paynow Transfer  27/09/23    +6597988922        s9819533h   \n",
       "9     920d00d  Paynow Transfer  27/09/23    +6597988922         84821234   \n",
       "10    26f5057  Paynow Transfer  27/09/23    +6594512425         94512425   \n",
       "11    26f5057  Paynow Transfer  27/09/23    +6594512425         94512425   \n",
       "\n",
       "   amount  session_rating  \n",
       "0    None             NaN  \n",
       "1    None             NaN  \n",
       "2    None             NaN  \n",
       "3     200             NaN  \n",
       "4     200             NaN  \n",
       "5     100             NaN  \n",
       "6     200             NaN  \n",
       "7       5             NaN  \n",
       "8      50             3.0  \n",
       "9      50             4.0  \n",
       "10   1000             5.0  \n",
       "11    123             5.0  "
      ]
     },
     "execution_count": 13,
     "metadata": {},
     "output_type": "execute_result"
    }
   ],
   "source": [
    "paynow_transfer_df"
   ]
  },
  {
   "cell_type": "code",
   "execution_count": 17,
   "metadata": {},
   "outputs": [
    {
     "data": {
      "text/html": [
       "<div>\n",
       "<style scoped>\n",
       "    .dataframe tbody tr th:only-of-type {\n",
       "        vertical-align: middle;\n",
       "    }\n",
       "\n",
       "    .dataframe tbody tr th {\n",
       "        vertical-align: top;\n",
       "    }\n",
       "\n",
       "    .dataframe thead th {\n",
       "        text-align: right;\n",
       "    }\n",
       "</style>\n",
       "<table border=\"1\" class=\"dataframe\">\n",
       "  <thead>\n",
       "    <tr style=\"text-align: right;\">\n",
       "      <th></th>\n",
       "      <th>session_id</th>\n",
       "      <th>bank_function</th>\n",
       "      <th>account_number</th>\n",
       "      <th>recipient_number</th>\n",
       "      <th>amount</th>\n",
       "      <th>session_rating</th>\n",
       "    </tr>\n",
       "    <tr>\n",
       "      <th>date</th>\n",
       "      <th></th>\n",
       "      <th></th>\n",
       "      <th></th>\n",
       "      <th></th>\n",
       "      <th></th>\n",
       "      <th></th>\n",
       "    </tr>\n",
       "  </thead>\n",
       "  <tbody>\n",
       "    <tr>\n",
       "      <th>27/09/23</th>\n",
       "      <td>6</td>\n",
       "      <td>6</td>\n",
       "      <td>6</td>\n",
       "      <td>4</td>\n",
       "      <td>4</td>\n",
       "      <td>4</td>\n",
       "    </tr>\n",
       "    <tr>\n",
       "      <th>28/09/23</th>\n",
       "      <td>6</td>\n",
       "      <td>6</td>\n",
       "      <td>6</td>\n",
       "      <td>5</td>\n",
       "      <td>5</td>\n",
       "      <td>0</td>\n",
       "    </tr>\n",
       "  </tbody>\n",
       "</table>\n",
       "</div>"
      ],
      "text/plain": [
       "          session_id  bank_function  account_number  recipient_number  amount  \\\n",
       "date                                                                            \n",
       "27/09/23           6              6               6                 4       4   \n",
       "28/09/23           6              6               6                 5       5   \n",
       "\n",
       "          session_rating  \n",
       "date                      \n",
       "27/09/23               4  \n",
       "28/09/23               0  "
      ]
     },
     "execution_count": 17,
     "metadata": {},
     "output_type": "execute_result"
    }
   ],
   "source": [
    "paynow_transfer_df.groupby(\"date\").count()"
   ]
  },
  {
   "cell_type": "code",
   "execution_count": 14,
   "metadata": {},
   "outputs": [
    {
     "data": {
      "text/html": [
       "<div>\n",
       "<style scoped>\n",
       "    .dataframe tbody tr th:only-of-type {\n",
       "        vertical-align: middle;\n",
       "    }\n",
       "\n",
       "    .dataframe tbody tr th {\n",
       "        vertical-align: top;\n",
       "    }\n",
       "\n",
       "    .dataframe thead th {\n",
       "        text-align: right;\n",
       "    }\n",
       "</style>\n",
       "<table border=\"1\" class=\"dataframe\">\n",
       "  <thead>\n",
       "    <tr style=\"text-align: right;\">\n",
       "      <th></th>\n",
       "      <th>session_id</th>\n",
       "      <th>bank_function</th>\n",
       "      <th>date</th>\n",
       "      <th>account_number</th>\n",
       "      <th>recipient_number</th>\n",
       "      <th>amount</th>\n",
       "      <th>session_rating</th>\n",
       "    </tr>\n",
       "  </thead>\n",
       "  <tbody>\n",
       "    <tr>\n",
       "      <th>0</th>\n",
       "      <td>7bfab07</td>\n",
       "      <td>Scan to Pay</td>\n",
       "      <td>28/09/23</td>\n",
       "      <td>+6597988922</td>\n",
       "      <td>201832698H</td>\n",
       "      <td>None</td>\n",
       "      <td>NaN</td>\n",
       "    </tr>\n",
       "    <tr>\n",
       "      <th>1</th>\n",
       "      <td>cad2775</td>\n",
       "      <td>Scan to Pay</td>\n",
       "      <td>28/09/23</td>\n",
       "      <td>+6597988922</td>\n",
       "      <td>201832698H</td>\n",
       "      <td>200</td>\n",
       "      <td>NaN</td>\n",
       "    </tr>\n",
       "    <tr>\n",
       "      <th>2</th>\n",
       "      <td>50a7072</td>\n",
       "      <td>Scan to Pay</td>\n",
       "      <td>28/09/23</td>\n",
       "      <td>+6597988922</td>\n",
       "      <td>201832698H</td>\n",
       "      <td>200</td>\n",
       "      <td>NaN</td>\n",
       "    </tr>\n",
       "    <tr>\n",
       "      <th>3</th>\n",
       "      <td>3d4a177</td>\n",
       "      <td>Scan to Pay</td>\n",
       "      <td>28/09/23</td>\n",
       "      <td>+6597988922</td>\n",
       "      <td>201832698H</td>\n",
       "      <td>200</td>\n",
       "      <td>NaN</td>\n",
       "    </tr>\n",
       "    <tr>\n",
       "      <th>4</th>\n",
       "      <td>3792ce0</td>\n",
       "      <td>Scan to Pay</td>\n",
       "      <td>27/09/23</td>\n",
       "      <td>+6597988922</td>\n",
       "      <td>201832698H</td>\n",
       "      <td>200</td>\n",
       "      <td>NaN</td>\n",
       "    </tr>\n",
       "    <tr>\n",
       "      <th>5</th>\n",
       "      <td>ab65826</td>\n",
       "      <td>Scan to Pay</td>\n",
       "      <td>28/09/23</td>\n",
       "      <td>+6597988922</td>\n",
       "      <td>201832698H</td>\n",
       "      <td>10.50</td>\n",
       "      <td>NaN</td>\n",
       "    </tr>\n",
       "    <tr>\n",
       "      <th>6</th>\n",
       "      <td>fbcea3e</td>\n",
       "      <td>Scan to Pay</td>\n",
       "      <td>28/09/23</td>\n",
       "      <td>+6597988922</td>\n",
       "      <td>201832698H</td>\n",
       "      <td>10.50</td>\n",
       "      <td>NaN</td>\n",
       "    </tr>\n",
       "  </tbody>\n",
       "</table>\n",
       "</div>"
      ],
      "text/plain": [
       "  session_id bank_function      date account_number recipient_number amount  \\\n",
       "0    7bfab07   Scan to Pay  28/09/23    +6597988922       201832698H   None   \n",
       "1    cad2775   Scan to Pay  28/09/23    +6597988922       201832698H    200   \n",
       "2    50a7072   Scan to Pay  28/09/23    +6597988922       201832698H    200   \n",
       "3    3d4a177   Scan to Pay  28/09/23    +6597988922       201832698H    200   \n",
       "4    3792ce0   Scan to Pay  27/09/23    +6597988922       201832698H    200   \n",
       "5    ab65826   Scan to Pay  28/09/23    +6597988922       201832698H  10.50   \n",
       "6    fbcea3e   Scan to Pay  28/09/23    +6597988922       201832698H  10.50   \n",
       "\n",
       "   session_rating  \n",
       "0             NaN  \n",
       "1             NaN  \n",
       "2             NaN  \n",
       "3             NaN  \n",
       "4             NaN  \n",
       "5             NaN  \n",
       "6             NaN  "
      ]
     },
     "execution_count": 14,
     "metadata": {},
     "output_type": "execute_result"
    }
   ],
   "source": [
    "scan_to_pay_df"
   ]
  },
  {
   "cell_type": "code",
   "execution_count": 15,
   "metadata": {},
   "outputs": [
    {
     "data": {
      "text/html": [
       "<div>\n",
       "<style scoped>\n",
       "    .dataframe tbody tr th:only-of-type {\n",
       "        vertical-align: middle;\n",
       "    }\n",
       "\n",
       "    .dataframe tbody tr th {\n",
       "        vertical-align: top;\n",
       "    }\n",
       "\n",
       "    .dataframe thead th {\n",
       "        text-align: right;\n",
       "    }\n",
       "</style>\n",
       "<table border=\"1\" class=\"dataframe\">\n",
       "  <thead>\n",
       "    <tr style=\"text-align: right;\">\n",
       "      <th></th>\n",
       "      <th>message</th>\n",
       "    </tr>\n",
       "  </thead>\n",
       "  <tbody>\n",
       "    <tr>\n",
       "      <th>0</th>\n",
       "      <td>No</td>\n",
       "    </tr>\n",
       "    <tr>\n",
       "      <th>1</th>\n",
       "      <td>No</td>\n",
       "    </tr>\n",
       "    <tr>\n",
       "      <th>2</th>\n",
       "      <td>bo</td>\n",
       "    </tr>\n",
       "    <tr>\n",
       "      <th>3</th>\n",
       "      <td>hi</td>\n",
       "    </tr>\n",
       "    <tr>\n",
       "      <th>4</th>\n",
       "      <td>hi</td>\n",
       "    </tr>\n",
       "    <tr>\n",
       "      <th>5</th>\n",
       "      <td>no</td>\n",
       "    </tr>\n",
       "    <tr>\n",
       "      <th>6</th>\n",
       "      <td>no</td>\n",
       "    </tr>\n",
       "    <tr>\n",
       "      <th>7</th>\n",
       "      <td>End</td>\n",
       "    </tr>\n",
       "    <tr>\n",
       "      <th>8</th>\n",
       "      <td>end</td>\n",
       "    </tr>\n",
       "    <tr>\n",
       "      <th>9</th>\n",
       "      <td>end</td>\n",
       "    </tr>\n",
       "    <tr>\n",
       "      <th>10</th>\n",
       "      <td>1000</td>\n",
       "    </tr>\n",
       "    <tr>\n",
       "      <th>11</th>\n",
       "      <td>1000</td>\n",
       "    </tr>\n",
       "    <tr>\n",
       "      <th>12</th>\n",
       "      <td>Back</td>\n",
       "    </tr>\n",
       "    <tr>\n",
       "      <th>13</th>\n",
       "      <td>Back</td>\n",
       "    </tr>\n",
       "    <tr>\n",
       "      <th>14</th>\n",
       "      <td>Skip</td>\n",
       "    </tr>\n",
       "    <tr>\n",
       "      <th>15</th>\n",
       "      <td>back</td>\n",
       "    </tr>\n",
       "    <tr>\n",
       "      <th>16</th>\n",
       "      <td>back</td>\n",
       "    </tr>\n",
       "    <tr>\n",
       "      <th>17</th>\n",
       "      <td>scan</td>\n",
       "    </tr>\n",
       "    <tr>\n",
       "      <th>18</th>\n",
       "      <td>Great</td>\n",
       "    </tr>\n",
       "    <tr>\n",
       "      <th>19</th>\n",
       "      <td>fk you</td>\n",
       "    </tr>\n",
       "    <tr>\n",
       "      <th>20</th>\n",
       "      <td>logout</td>\n",
       "    </tr>\n",
       "    <tr>\n",
       "      <th>21</th>\n",
       "      <td>thanks</td>\n",
       "    </tr>\n",
       "    <tr>\n",
       "      <th>22</th>\n",
       "      <td>Log out</td>\n",
       "    </tr>\n",
       "    <tr>\n",
       "      <th>23</th>\n",
       "      <td>Log out</td>\n",
       "    </tr>\n",
       "    <tr>\n",
       "      <th>24</th>\n",
       "      <td>brandon</td>\n",
       "    </tr>\n",
       "    <tr>\n",
       "      <th>25</th>\n",
       "      <td>log out</td>\n",
       "    </tr>\n",
       "    <tr>\n",
       "      <th>26</th>\n",
       "      <td>log out</td>\n",
       "    </tr>\n",
       "    <tr>\n",
       "      <th>27</th>\n",
       "      <td>log out</td>\n",
       "    </tr>\n",
       "    <tr>\n",
       "      <th>28</th>\n",
       "      <td>qr code</td>\n",
       "    </tr>\n",
       "    <tr>\n",
       "      <th>29</th>\n",
       "      <td>qr code</td>\n",
       "    </tr>\n",
       "    <tr>\n",
       "      <th>30</th>\n",
       "      <td>94512425</td>\n",
       "    </tr>\n",
       "    <tr>\n",
       "      <th>31</th>\n",
       "      <td>Password</td>\n",
       "    </tr>\n",
       "    <tr>\n",
       "      <th>32</th>\n",
       "      <td>Password</td>\n",
       "    </tr>\n",
       "    <tr>\n",
       "      <th>33</th>\n",
       "      <td>Password</td>\n",
       "    </tr>\n",
       "    <tr>\n",
       "      <th>34</th>\n",
       "      <td>password</td>\n",
       "    </tr>\n",
       "    <tr>\n",
       "      <th>35</th>\n",
       "      <td>password</td>\n",
       "    </tr>\n",
       "    <tr>\n",
       "      <th>36</th>\n",
       "      <td>passworf</td>\n",
       "    </tr>\n",
       "    <tr>\n",
       "      <th>37</th>\n",
       "      <td>brandondc</td>\n",
       "    </tr>\n",
       "    <tr>\n",
       "      <th>38</th>\n",
       "      <td>brandondc</td>\n",
       "    </tr>\n",
       "    <tr>\n",
       "      <th>39</th>\n",
       "      <td>Check balance</td>\n",
       "    </tr>\n",
       "    <tr>\n",
       "      <th>40</th>\n",
       "      <td>Check balance</td>\n",
       "    </tr>\n",
       "    <tr>\n",
       "      <th>41</th>\n",
       "      <td>check balance</td>\n",
       "    </tr>\n",
       "    <tr>\n",
       "      <th>42</th>\n",
       "      <td>Transfer money</td>\n",
       "    </tr>\n",
       "    <tr>\n",
       "      <th>43</th>\n",
       "      <td>transfer money</td>\n",
       "    </tr>\n",
       "    <tr>\n",
       "      <th>44</th>\n",
       "      <td>asdfasdfasdfasdf</td>\n",
       "    </tr>\n",
       "  </tbody>\n",
       "</table>\n",
       "</div>"
      ],
      "text/plain": [
       "             message\n",
       "0                 No\n",
       "1                 No\n",
       "2                 bo\n",
       "3                 hi\n",
       "4                 hi\n",
       "5                 no\n",
       "6                 no\n",
       "7                End\n",
       "8                end\n",
       "9                end\n",
       "10              1000\n",
       "11              1000\n",
       "12              Back\n",
       "13              Back\n",
       "14              Skip\n",
       "15              back\n",
       "16              back\n",
       "17              scan\n",
       "18             Great\n",
       "19            fk you\n",
       "20            logout\n",
       "21            thanks\n",
       "22           Log out\n",
       "23           Log out\n",
       "24           brandon\n",
       "25           log out\n",
       "26           log out\n",
       "27           log out\n",
       "28           qr code\n",
       "29           qr code\n",
       "30          94512425\n",
       "31          Password\n",
       "32          Password\n",
       "33          Password\n",
       "34          password\n",
       "35          password\n",
       "36          passworf\n",
       "37         brandondc\n",
       "38         brandondc\n",
       "39     Check balance\n",
       "40     Check balance\n",
       "41     check balance\n",
       "42    Transfer money\n",
       "43    transfer money\n",
       "44  asdfasdfasdfasdf"
      ]
     },
     "execution_count": 15,
     "metadata": {},
     "output_type": "execute_result"
    }
   ],
   "source": [
    "overview_df"
   ]
  },
  {
   "cell_type": "code",
   "execution_count": 25,
   "metadata": {},
   "outputs": [
    {
     "name": "stdout",
     "output_type": "stream",
     "text": [
      "\u001b[33mWARNING: Ignoring invalid distribution -andas (/opt/anaconda3/lib/python3.8/site-packages)\u001b[0m\u001b[33m\n",
      "\u001b[0mRequirement already satisfied: pyopenssl in /opt/anaconda3/lib/python3.8/site-packages (19.1.0)\n",
      "Collecting pyopenssl\n",
      "  Obtaining dependency information for pyopenssl from https://files.pythonhosted.org/packages/f0/e2/f8b4f1c67933a4907e52228241f4bd52169f3196b70af04403b29c63238a/pyOpenSSL-23.2.0-py3-none-any.whl.metadata\n",
      "  Downloading pyOpenSSL-23.2.0-py3-none-any.whl.metadata (10 kB)\n",
      "Requirement already satisfied: cryptography!=40.0.0,!=40.0.1,<42,>=38.0.0 in /opt/anaconda3/lib/python3.8/site-packages (from pyopenssl) (41.0.3)\n",
      "Requirement already satisfied: cffi>=1.12 in /opt/anaconda3/lib/python3.8/site-packages (from cryptography!=40.0.0,!=40.0.1,<42,>=38.0.0->pyopenssl) (1.14.0)\n",
      "Requirement already satisfied: pycparser in /opt/anaconda3/lib/python3.8/site-packages (from cffi>=1.12->cryptography!=40.0.0,!=40.0.1,<42,>=38.0.0->pyopenssl) (2.20)\n",
      "Downloading pyOpenSSL-23.2.0-py3-none-any.whl (59 kB)\n",
      "\u001b[2K   \u001b[90m━━━━━━━━━━━━━━━━━━━━━━━━━━━━━━━━━━━━━━━━\u001b[0m \u001b[32m59.0/59.0 kB\u001b[0m \u001b[31m1.8 MB/s\u001b[0m eta \u001b[36m0:00:00\u001b[0m\n",
      "\u001b[?25h\u001b[33mWARNING: Ignoring invalid distribution -andas (/opt/anaconda3/lib/python3.8/site-packages)\u001b[0m\u001b[33m\n",
      "\u001b[0m\u001b[33mDEPRECATION: pyodbc 4.0.0-unsupported has a non-standard version number. pip 23.3 will enforce this behaviour change. A possible replacement is to upgrade to a newer version of pyodbc or contact the author to suggest that they release a version with a conforming version number. Discussion can be found at https://github.com/pypa/pip/issues/12063\u001b[0m\u001b[33m\n",
      "\u001b[0m\u001b[33mDEPRECATION: textract 1.6.4 has a non-standard dependency specifier extract-msg<=0.29.*. pip 23.3 will enforce this behaviour change. A possible replacement is to upgrade to a newer version of textract or contact the author to suggest that they release a version with a conforming dependency specifiers. Discussion can be found at https://github.com/pypa/pip/issues/12063\u001b[0m\u001b[33m\n",
      "\u001b[0mInstalling collected packages: pyopenssl\n",
      "  Attempting uninstall: pyopenssl\n",
      "    Found existing installation: pyOpenSSL 19.1.0\n",
      "    Uninstalling pyOpenSSL-19.1.0:\n",
      "      Successfully uninstalled pyOpenSSL-19.1.0\n",
      "Successfully installed pyopenssl-23.2.0\n"
     ]
    }
   ],
   "source": [
    "!pip install pyopenssl --upgrade"
   ]
  },
  {
   "cell_type": "code",
   "execution_count": 26,
   "metadata": {},
   "outputs": [
    {
     "name": "stderr",
     "output_type": "stream",
     "text": [
      "No model was supplied, defaulted to distilbert-base-uncased-finetuned-sst-2-english and revision af0f99b (https://huggingface.co/distilbert-base-uncased-finetuned-sst-2-english).\n",
      "Using a pipeline without specifying a model name and revision in production is not recommended.\n",
      "All PyTorch model weights were used when initializing TFDistilBertForSequenceClassification.\n",
      "\n",
      "All the weights of TFDistilBertForSequenceClassification were initialized from the PyTorch model.\n",
      "If your task is similar to the task the model of the checkpoint was trained on, you can already use TFDistilBertForSequenceClassification for predictions without further training.\n"
     ]
    }
   ],
   "source": [
    "from transformers import pipeline\n",
    "import pandas as pd\n",
    "import re\n",
    "\n",
    "sentiment_pipeline = pipeline(\"sentiment-analysis\")\n",
    "msgs = overview_df[\"message\"].tolist()\n",
    "sentiments = sentiment_pipeline(msgs)"
   ]
  },
  {
   "cell_type": "code",
   "execution_count": 27,
   "metadata": {},
   "outputs": [
    {
     "data": {
      "text/plain": [
       "[{'label': 'NEGATIVE', 'score': 0.9964459538459778},\n",
       " {'label': 'NEGATIVE', 'score': 0.9964459538459778},\n",
       " {'label': 'POSITIVE', 'score': 0.9894219040870667},\n",
       " {'label': 'POSITIVE', 'score': 0.9983267188072205},\n",
       " {'label': 'POSITIVE', 'score': 0.9983267188072205},\n",
       " {'label': 'NEGATIVE', 'score': 0.9964459538459778},\n",
       " {'label': 'NEGATIVE', 'score': 0.9964459538459778},\n",
       " {'label': 'NEGATIVE', 'score': 0.9941535592079163},\n",
       " {'label': 'NEGATIVE', 'score': 0.9941535592079163},\n",
       " {'label': 'NEGATIVE', 'score': 0.9941535592079163},\n",
       " {'label': 'POSITIVE', 'score': 0.9958292841911316},\n",
       " {'label': 'POSITIVE', 'score': 0.9958292841911316},\n",
       " {'label': 'POSITIVE', 'score': 0.9845153093338013},\n",
       " {'label': 'POSITIVE', 'score': 0.9845153093338013},\n",
       " {'label': 'NEGATIVE', 'score': 0.9995515942573547},\n",
       " {'label': 'POSITIVE', 'score': 0.9845153093338013},\n",
       " {'label': 'POSITIVE', 'score': 0.9845153093338013},\n",
       " {'label': 'NEGATIVE', 'score': 0.9978629946708679},\n",
       " {'label': 'POSITIVE', 'score': 0.9998630285263062},\n",
       " {'label': 'POSITIVE', 'score': 0.9977796673774719},\n",
       " {'label': 'NEGATIVE', 'score': 0.7710439562797546},\n",
       " {'label': 'POSITIVE', 'score': 0.9998080134391785},\n",
       " {'label': 'NEGATIVE', 'score': 0.9953716397285461},\n",
       " {'label': 'NEGATIVE', 'score': 0.9953716397285461},\n",
       " {'label': 'POSITIVE', 'score': 0.9839896559715271},\n",
       " {'label': 'NEGATIVE', 'score': 0.9953716397285461},\n",
       " {'label': 'NEGATIVE', 'score': 0.9953716397285461},\n",
       " {'label': 'NEGATIVE', 'score': 0.9953716397285461},\n",
       " {'label': 'POSITIVE', 'score': 0.6347321271896362},\n",
       " {'label': 'POSITIVE', 'score': 0.6347321271896362},\n",
       " {'label': 'POSITIVE', 'score': 0.8101351857185364},\n",
       " {'label': 'POSITIVE', 'score': 0.96703040599823},\n",
       " {'label': 'POSITIVE', 'score': 0.96703040599823},\n",
       " {'label': 'POSITIVE', 'score': 0.96703040599823},\n",
       " {'label': 'POSITIVE', 'score': 0.96703040599823},\n",
       " {'label': 'POSITIVE', 'score': 0.96703040599823},\n",
       " {'label': 'NEGATIVE', 'score': 0.6711068749427795},\n",
       " {'label': 'POSITIVE', 'score': 0.5109276175498962},\n",
       " {'label': 'POSITIVE', 'score': 0.5109276175498962},\n",
       " {'label': 'POSITIVE', 'score': 0.8414419293403625},\n",
       " {'label': 'POSITIVE', 'score': 0.8414419293403625},\n",
       " {'label': 'POSITIVE', 'score': 0.8414419293403625},\n",
       " {'label': 'NEGATIVE', 'score': 0.979814887046814},\n",
       " {'label': 'NEGATIVE', 'score': 0.979814887046814},\n",
       " {'label': 'NEGATIVE', 'score': 0.9905117154121399}]"
      ]
     },
     "execution_count": 27,
     "metadata": {},
     "output_type": "execute_result"
    }
   ],
   "source": [
    "sentiments"
   ]
  },
  {
   "cell_type": "code",
   "execution_count": 28,
   "metadata": {},
   "outputs": [],
   "source": [
    "msgs_sentiments = {\"unrecognised_msgs\": msgs, \"sentiment_label_score\": sentiments}\n",
    "msgs_sentiments_df = pd.DataFrame(msgs_sentiments)\n",
    "msgs_sentiments_df.to_csv(\"../csv/sentiments.csv\", index=False)"
   ]
  },
  {
   "cell_type": "code",
   "execution_count": 31,
   "metadata": {},
   "outputs": [],
   "source": [
    "sentiments_df = pd.read_csv(\"../csv/sentiments.csv\")\n",
    "unrecognised_msgs_df = sentiments_df[\"unrecognised_msgs\"]\n",
    "unrecognised_msgs_df.to_csv(\"../csv/unrecognised_msgs.csv\", index=False)"
   ]
  },
  {
   "cell_type": "code",
   "execution_count": null,
   "metadata": {},
   "outputs": [],
   "source": [
    "from transformers import pipeline\n",
    "import pandas as pd\n",
    "import re\n",
    "import time\n",
    "\n",
    "start = time.time()\n",
    "\n",
    "sentiment_pipeline = pipeline(\"sentiment-analysis\") #create sentiment analysis model\n",
    "df = pd.read_csv('../csv/overview.csv') #read overview df\n",
    "unrecognised_msgs = df[\"unrecognised_msgs\"].tolist() #get unrecognised_msgs column\n",
    "\n",
    "msgs = []\n",
    "pattern = r'[\"\\'\\[\\]]'\n",
    "\n",
    "for lst in unrecognised_msgs:\n",
    "    lst = lst.split(\", \") # transform string representation of array to array ie \"[['msg1', 'msg2'], ['msg3', 'msg4']]\" to [['msg1', 'msg2'], ['msg3', 'msg4']]\n",
    "    for msg in lst:\n",
    "            msg = re.sub(pattern, '', msg) # remove ' \" [ ] from msg\n",
    "            msg = msg.strip() # remove spaces from the start and end of msg\n",
    "            if msg != \"\": # msgs_to_customer_support column is []\n",
    "                msgs.append(msg)\n",
    "\n",
    "sentiments = sentiment_pipeline(msgs) # apply sentiment analysis\n",
    "\n",
    "# turn msgs and sentiment into a csv\n",
    "msgs_sentiments = {\"unrecognised_msgs\": msgs, \"sentiment_label_score\": sentiments}\n",
    "msgs_sentiments_df = pd.DataFrame(msgs_sentiments)\n",
    "msgs_sentiments_df.to_csv(\"../csv/sentiments.csv\", index=False)\n",
    "\n",
    "end = time.time()\n",
    "total_seconds = end - start\n",
    "minutes = total_seconds // 60\n",
    "seconds = total_seconds % 60\n",
    "print(f\"{minutes:02}:{seconds:02}\")\n"
   ]
  },
  {
   "cell_type": "code",
   "execution_count": 33,
   "metadata": {},
   "outputs": [
    {
     "name": "stdout",
     "output_type": "stream",
     "text": [
      "\u001b[33mWARNING: Ignoring invalid distribution -andas (/opt/anaconda3/lib/python3.8/site-packages)\u001b[0m\u001b[33m\n",
      "\u001b[0mRequirement already satisfied: nltk in /opt/anaconda3/lib/python3.8/site-packages (3.7)\n",
      "Collecting nltk\n",
      "  Downloading nltk-3.8.1-py3-none-any.whl (1.5 MB)\n",
      "\u001b[2K     \u001b[90m━━━━━━━━━━━━━━━━━━━━━━━━━━━━━━━━━━━━━━━━\u001b[0m \u001b[32m1.5/1.5 MB\u001b[0m \u001b[31m16.9 MB/s\u001b[0m eta \u001b[36m0:00:00\u001b[0m00:01\u001b[0m00:01\u001b[0m\n",
      "\u001b[?25hRequirement already satisfied: click in /opt/anaconda3/lib/python3.8/site-packages (from nltk) (8.1.7)\n",
      "Requirement already satisfied: joblib in /opt/anaconda3/lib/python3.8/site-packages (from nltk) (1.3.2)\n",
      "Requirement already satisfied: regex>=2021.8.3 in /opt/anaconda3/lib/python3.8/site-packages (from nltk) (2022.3.15)\n",
      "Requirement already satisfied: tqdm in /opt/anaconda3/lib/python3.8/site-packages (from nltk) (4.62.3)\n",
      "\u001b[33mWARNING: Ignoring invalid distribution -andas (/opt/anaconda3/lib/python3.8/site-packages)\u001b[0m\u001b[33m\n",
      "\u001b[0m\u001b[33mDEPRECATION: pyodbc 4.0.0-unsupported has a non-standard version number. pip 23.3 will enforce this behaviour change. A possible replacement is to upgrade to a newer version of pyodbc or contact the author to suggest that they release a version with a conforming version number. Discussion can be found at https://github.com/pypa/pip/issues/12063\u001b[0m\u001b[33m\n",
      "\u001b[0m\u001b[33mDEPRECATION: textract 1.6.4 has a non-standard dependency specifier extract-msg<=0.29.*. pip 23.3 will enforce this behaviour change. A possible replacement is to upgrade to a newer version of textract or contact the author to suggest that they release a version with a conforming dependency specifiers. Discussion can be found at https://github.com/pypa/pip/issues/12063\u001b[0m\u001b[33m\n",
      "\u001b[0mInstalling collected packages: nltk\n",
      "  Attempting uninstall: nltk\n",
      "    Found existing installation: nltk 3.7\n",
      "    Uninstalling nltk-3.7:\n",
      "      Successfully uninstalled nltk-3.7\n",
      "Successfully installed nltk-3.8.1\n"
     ]
    }
   ],
   "source": [
    "!pip install --upgrade nltk"
   ]
  },
  {
   "cell_type": "code",
   "execution_count": null,
   "metadata": {},
   "outputs": [],
   "source": [
    "for df in [paynow_transfer_df, scan_to_pay_df]:\n",
    "    df['date'] = df['date'].apply(lambda x: x.replace(\"T\", \" \"))\n",
    "    df['account_number'] = df['account_number'].apply(lambda x: x[3:])\n",
    "    df.rename(columns={'session_id': 'Session ID', 'bank_function': 'Bank Function', 'date': 'Date', 'account_number': 'Sender Mobile Number', 'recipient_number': 'Recipient Mobile Number/ NRIC', 'amount': 'Amount', 'session_rating': 'Session Rating'})\n",
    "\n",
    "for df in [check_balance_df, paynow_transfer_df, scan_to_pay_df]:\n",
    "    df.fillna(\"NA\", inplace=True)\n",
    "\n",
    "sentiment_df.rename(columns={'unrecognised_msgs': 'Unrecognized Messages', 'sentiment_label': 'Sentiment Label'}, inplace=True)\n",
    "check_balance_df.rename(columns={'session_id': 'Session ID', 'bank_function': 'Bank Function', 'date': 'Date', 'account_number': 'Balance', 'see_past_transacitons': '', 'session_rating': 'Session Rating'})\n",
    "\n"
   ]
  },
  {
   "cell_type": "code",
   "execution_count": 6,
   "metadata": {},
   "outputs": [
    {
     "name": "stdout",
     "output_type": "stream",
     "text": [
      "2023-01-28 00:09:00\n"
     ]
    }
   ],
   "source": [
    "from datetime import datetime\n",
    "\n",
    "# Your ISO 8601 date and time string\n",
    "iso_string = \"2023-01-28T00:09:00\"\n",
    "\n",
    "# Convert to a datetime object\n",
    "iso_datetime = datetime.fromisoformat(iso_string)\n",
    "\n",
    "# Format it as a human-readable string\n",
    "readable_format = iso_datetime.strftime(\"%Y-%m-%d %H:%M:%S\")\n",
    "\n",
    "print(readable_format)"
   ]
  },
  {
   "cell_type": "code",
   "execution_count": 8,
   "metadata": {},
   "outputs": [
    {
     "data": {
      "text/plain": [
       "'2023-01-28 00:09:00'"
      ]
     },
     "execution_count": 8,
     "metadata": {},
     "output_type": "execute_result"
    }
   ],
   "source": [
    "\"2023-01-28T00:09:00\".replace(\"T\", \" \")"
   ]
  },
  {
   "cell_type": "code",
   "execution_count": null,
   "metadata": {},
   "outputs": [],
   "source": [
    "from dash import Dash, dash_table\n",
    "import pandas as pd\n",
    "from collections import OrderedDict\n",
    "\n",
    "data = OrderedDict(\n",
    "    [\n",
    "        (\"Date\", [\"2015-01-01\", \"2015-10-24\", \"2016-05-10\", \"2017-01-10\", \"2018-05-10\", \"2018-08-15\"]),\n",
    "        (\"Region\", [\"Montreal\", \"Toronto\", \"New York City\", \"Miami\", \"San Francisco\", \"London\"]),\n",
    "        (\"Temperature\", [1, -20, 3.512, 4, 10423, -441.2]),\n",
    "        (\"Humidity\", [10, 20, 30, 40, 50, 60]),\n",
    "        (\"Pressure\", [2, 10924, 3912, -10, 3591.2, 15]),\n",
    "    ]\n",
    ")\n",
    "\n",
    "df = pd.DataFrame(data)\n",
    "\n",
    "app = Dash(__name__)\n",
    "\n",
    "app.layout = dash_table.DataTable(\n",
    "    data=df.to_dict('records'),\n",
    "    columns=[\n",
    "        {\"name\": i, \"id\": i} for i in df.columns\n",
    "    ],\n",
    "    style_data_conditional=[\n",
    "        {\n",
    "            'if': {\n",
    "                'filter_query': '{{Temperature}} = {}'.format(df['Temperature'].min()),\n",
    "            },\n",
    "            'backgroundColor': '#FF4136',\n",
    "            'color': 'white'\n",
    "        },\n",
    "    ]\n",
    ")\n",
    "\n",
    "if __name__ == '__main__':\n",
    "    app.run(debug=True)\n"
   ]
  },
  {
   "cell_type": "code",
   "execution_count": null,
   "metadata": {},
   "outputs": [],
   "source": [
    "import dash\n",
    "from dash import dash_table\n",
    "import pandas as pd\n",
    "\n",
    "# Sample data\n",
    "data = {\n",
    "    'Sentiment Label': ['POSITIVE', 'NEGATIVE', 'POSITIVE', 'NEUTRAL'],\n",
    "    'Text': ['Good', 'Bad', 'Great', 'Okay']\n",
    "}\n",
    "df = pd.DataFrame(data)\n",
    "\n",
    "app = dash.Dash(__name__)\n",
    "\n",
    "app.layout = dash_table.DataTable(\n",
    "    id='table',\n",
    "    columns=[\n",
    "        {\"name\": \"Sentiment Label\", \"id\": \"Sentiment Label\"},\n",
    "        {\"name\": \"Text\", \"id\": \"Text\"},\n",
    "    ],\n",
    "    data=df.to_dict('records'),\n",
    "    style_data_conditional=[\n",
    "        {\n",
    "            'if': {\n",
    "                'filter_query': '{Sentiment Label} eq \"POSITIVE\"',\n",
    "            },\n",
    "            'backgroundColor': '#B4DBB4',\n",
    "        },\n",
    "    ],\n",
    "    style_table={'height': '300px', 'overflowY': 'auto'},\n",
    "    style_as_list_view=True\n",
    ")\n",
    "\n",
    "if __name__ == '__main__':\n",
    "    app.run_server(debug=True)\n"
   ]
  },
  {
   "cell_type": "code",
   "execution_count": null,
   "metadata": {},
   "outputs": [],
   "source": []
  }
 ],
 "metadata": {
  "kernelspec": {
   "display_name": "base",
   "language": "python",
   "name": "python3"
  },
  "language_info": {
   "codemirror_mode": {
    "name": "ipython",
    "version": 3
   },
   "file_extension": ".py",
   "mimetype": "text/x-python",
   "name": "python",
   "nbconvert_exporter": "python",
   "pygments_lexer": "ipython3",
   "version": "3.8.3"
  },
  "orig_nbformat": 4
 },
 "nbformat": 4,
 "nbformat_minor": 2
}
