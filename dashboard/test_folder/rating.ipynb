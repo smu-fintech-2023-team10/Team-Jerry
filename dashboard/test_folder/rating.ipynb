{
 "cells": [
  {
   "cell_type": "code",
   "execution_count": 15,
   "metadata": {},
   "outputs": [],
   "source": [
    "import pandas as pd\n",
    "import numpy as np\n",
    "import plotly.express as px"
   ]
  },
  {
   "cell_type": "code",
   "execution_count": 24,
   "metadata": {},
   "outputs": [],
   "source": [
    "check_balance_df = pd.read_csv('../csv/check_balance.csv')\n",
    "paynow_transfer_df = pd.read_csv('../csv/paynow_transfer.csv')\n",
    "scan_to_pay_df = pd.read_csv('../csv/scan_to_pay.csv')"
   ]
  },
  {
   "cell_type": "code",
   "execution_count": 21,
   "metadata": {},
   "outputs": [
    {
     "data": {
      "text/html": [
       "<div>\n",
       "<style scoped>\n",
       "    .dataframe tbody tr th:only-of-type {\n",
       "        vertical-align: middle;\n",
       "    }\n",
       "\n",
       "    .dataframe tbody tr th {\n",
       "        vertical-align: top;\n",
       "    }\n",
       "\n",
       "    .dataframe thead th {\n",
       "        text-align: right;\n",
       "    }\n",
       "</style>\n",
       "<table border=\"1\" class=\"dataframe\">\n",
       "  <thead>\n",
       "    <tr style=\"text-align: right;\">\n",
       "      <th></th>\n",
       "      <th>bank_function</th>\n",
       "      <th>date</th>\n",
       "      <th>transaction_time</th>\n",
       "      <th>account_number</th>\n",
       "      <th>recipient_number</th>\n",
       "      <th>amount</th>\n",
       "    </tr>\n",
       "  </thead>\n",
       "  <tbody>\n",
       "    <tr>\n",
       "      <th>0</th>\n",
       "      <td>PayNow Transfer</td>\n",
       "      <td>1/6/23</td>\n",
       "      <td>8:30:15</td>\n",
       "      <td>34567890</td>\n",
       "      <td>98765432</td>\n",
       "      <td>1250.75</td>\n",
       "    </tr>\n",
       "    <tr>\n",
       "      <th>1</th>\n",
       "      <td>PayNow Transfer</td>\n",
       "      <td>1/6/23</td>\n",
       "      <td>10:15:30</td>\n",
       "      <td>45678901</td>\n",
       "      <td>91234567</td>\n",
       "      <td>24.50</td>\n",
       "    </tr>\n",
       "    <tr>\n",
       "      <th>2</th>\n",
       "      <td>PayNow Transfer</td>\n",
       "      <td>2/6/23</td>\n",
       "      <td>11:20:45</td>\n",
       "      <td>56789012</td>\n",
       "      <td>95555555</td>\n",
       "      <td>3500.25</td>\n",
       "    </tr>\n",
       "    <tr>\n",
       "      <th>3</th>\n",
       "      <td>PayNow Transfer</td>\n",
       "      <td>2/6/23</td>\n",
       "      <td>9:45:30</td>\n",
       "      <td>67890123</td>\n",
       "      <td>91234568</td>\n",
       "      <td>15.80</td>\n",
       "    </tr>\n",
       "    <tr>\n",
       "      <th>4</th>\n",
       "      <td>PayNow Transfer</td>\n",
       "      <td>2/6/23</td>\n",
       "      <td>14:30:20</td>\n",
       "      <td>78901234</td>\n",
       "      <td>91111111</td>\n",
       "      <td>80.60</td>\n",
       "    </tr>\n",
       "  </tbody>\n",
       "</table>\n",
       "</div>"
      ],
      "text/plain": [
       "     bank_function    date transaction_time  account_number  recipient_number  \\\n",
       "0  PayNow Transfer  1/6/23          8:30:15        34567890          98765432   \n",
       "1  PayNow Transfer  1/6/23         10:15:30        45678901          91234567   \n",
       "2  PayNow Transfer  2/6/23         11:20:45        56789012          95555555   \n",
       "3  PayNow Transfer  2/6/23          9:45:30        67890123          91234568   \n",
       "4  PayNow Transfer  2/6/23         14:30:20        78901234          91111111   \n",
       "\n",
       "    amount  \n",
       "0  1250.75  \n",
       "1    24.50  \n",
       "2  3500.25  \n",
       "3    15.80  \n",
       "4    80.60  "
      ]
     },
     "execution_count": 21,
     "metadata": {},
     "output_type": "execute_result"
    }
   ],
   "source": [
    "paynow_transfer_df.head()"
   ]
  },
  {
   "cell_type": "code",
   "execution_count": 25,
   "metadata": {},
   "outputs": [],
   "source": [
    "check_balance_df['session_rating'] = np.random.randint(1, 6, size=len(check_balance_df))\n",
    "paynow_transfer_df['session_rating'] = np.random.randint(1, 6, size=len(paynow_transfer_df))\n",
    "scan_to_pay_df['session_rating'] = np.random.randint(1, 6, size=len(scan_to_pay_df))"
   ]
  },
  {
   "cell_type": "code",
   "execution_count": 26,
   "metadata": {},
   "outputs": [],
   "source": [
    "check_balance_df.to_csv('check_balance.csv', index=False)\n",
    "paynow_transfer_df.to_csv('paynow_transfer.csv', index=False)\n",
    "scan_to_pay_df.to_csv('scan_to_pay.csv', index=False)"
   ]
  }
 ],
 "metadata": {
  "kernelspec": {
   "display_name": "fypenv",
   "language": "python",
   "name": "python3"
  },
  "language_info": {
   "codemirror_mode": {
    "name": "ipython",
    "version": 3
   },
   "file_extension": ".py",
   "mimetype": "text/x-python",
   "name": "python",
   "nbconvert_exporter": "python",
   "pygments_lexer": "ipython3",
   "version": "3.9.13"
  },
  "orig_nbformat": 4
 },
 "nbformat": 4,
 "nbformat_minor": 2
}
